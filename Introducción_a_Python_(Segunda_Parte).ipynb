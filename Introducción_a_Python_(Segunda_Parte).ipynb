{
  "nbformat": 4,
  "nbformat_minor": 0,
  "metadata": {
    "colab": {
      "provenance": [],
      "authorship_tag": "ABX9TyMVsS8QBhjT8a/bvaosbxOQ",
      "include_colab_link": true
    },
    "kernelspec": {
      "name": "python3",
      "display_name": "Python 3"
    },
    "language_info": {
      "name": "python"
    }
  },
  "cells": [
    {
      "cell_type": "markdown",
      "metadata": {
        "id": "view-in-github",
        "colab_type": "text"
      },
      "source": [
        "<a href=\"https://colab.research.google.com/github/ChristopherAlarconOrtega/MCF-Python-2023-2/blob/main/Introducci%C3%B3n_a_Python_(Segunda_Parte).ipynb\" target=\"_parent\"><img src=\"https://colab.research.google.com/assets/colab-badge.svg\" alt=\"Open In Colab\"/></a>"
      ]
    },
    {
      "cell_type": "markdown",
      "source": [
        "</b><font color = #000066 size=6.5> Facultad de Ciencias</font> \n",
        "<br><font color = #CC9933 size=6.5> UNAM </font> \n",
        "<br><font color = ##A1C8DC size=6.5> Métodos Cuantitativos en Finanzas 2023-2 </font> \n",
        " <br><font color = silver size=7> Introducción a Python</font>"
      ],
      "metadata": {
        "id": "GOvFUn6kGY_a"
      }
    },
    {
      "cell_type": "markdown",
      "source": [
        "## Funciones en Python\n",
        "\n",
        "Python nos permite definir funciones, colocarle argumentos, ejecutar una tarea solicitada y devolver un resultado. \n",
        "La síntaxis de una función en Python es la siguiente.\n",
        "\n",
        "\n",
        "```\n",
        "def nombre_funcion (param1, param2, ... , paramn):\n",
        "  codigo interno de la funcion\n",
        "  ...\n",
        "  ...\n",
        "  return variable\n",
        "```\n",
        "\n"
      ],
      "metadata": {
        "id": "A5VcGA_CF-Fx"
      }
    },
    {
      "cell_type": "markdown",
      "source": [
        "En realidad nosotros ya hemos trabajado con funciones hasta este momento. Hemos trabajado con las funciones \"elementales\" o \"básicas\" de Python. Por ejemplo, cuando trabajamos con las funciones/métodos de las clases de datos."
      ],
      "metadata": {
        "id": "2sOA9q19GBzl"
      }
    },
    {
      "cell_type": "code",
      "source": [
        "palabra = \"85\"\n",
        "numero = int(palabra)"
      ],
      "metadata": {
        "id": "6G24PNTIGD5X"
      },
      "execution_count": null,
      "outputs": []
    },
    {
      "cell_type": "code",
      "source": [
        "def mi_funcion_suma(x, y):\n",
        "    \"\"\"Esta función devuelve la suma de los dos argumentos\n",
        "    x: primer argumento\n",
        "    y: segundo argumento\n",
        "    \n",
        "    output: suma de x y y\n",
        "    \"\"\"\n",
        "    return x+y"
      ],
      "metadata": {
        "id": "7dAWKI3-GHW1"
      },
      "execution_count": null,
      "outputs": []
    },
    {
      "cell_type": "code",
      "source": [
        "mi_funcion_suma(10,2)"
      ],
      "metadata": {
        "colab": {
          "base_uri": "https://localhost:8080/"
        },
        "id": "5BO_9Y2cGJNi",
        "outputId": "87a4b856-7433-449a-f0dc-28e6ad72da76"
      },
      "execution_count": null,
      "outputs": [
        {
          "output_type": "execute_result",
          "data": {
            "text/plain": [
              "12"
            ]
          },
          "metadata": {},
          "execution_count": 3
        }
      ]
    },
    {
      "cell_type": "markdown",
      "source": [
        "Otro ejemplo de función: \n",
        "\n",
        "La suma de los primeros n números naturales"
      ],
      "metadata": {
        "id": "1Mu51V-YVkw9"
      }
    },
    {
      "cell_type": "markdown",
      "source": [
        "Recordemos que, para cada entero $n$:\n",
        "$$\n",
        "\\sum_{i=1}^{n} i  = \\frac{n(n+1)}{2}\n",
        "$$"
      ],
      "metadata": {
        "id": "c1Dk8OYuGO_3"
      }
    },
    {
      "cell_type": "code",
      "source": [
        "def sum_integ(n):\n",
        "    res = 0 # Inicializamos la variable res\n",
        "    for i in range(1, n+1): \n",
        "        res+=i # Operador de suma y asigna\n",
        "    return res\n",
        "\n",
        "# Alternativamente podemos escribir la función anterior en un par de lineas\n",
        "def sum_integ_alternative(n):\n",
        "    return sum([i for i in range(1, n+1)])\n",
        "\n",
        "# Y aquí con la fórmula teórica\n",
        "def sum_integ_formula(n):\n",
        "    return n*(n+1)/2"
      ],
      "metadata": {
        "id": "NpNb-KXKGMx7"
      },
      "execution_count": null,
      "outputs": []
    },
    {
      "cell_type": "code",
      "source": [
        "n = 10\n",
        "\n",
        "print(\"Suma de los primeros n números:\", sum_integ(n))\n",
        "print(\"Suma (alternativa) de los primeros n números:\", sum_integ_alternative(n))\n",
        "print(\"Fórmula teórica de las suma de los primeros n números:\", sum_integ_formula(n))"
      ],
      "metadata": {
        "colab": {
          "base_uri": "https://localhost:8080/"
        },
        "id": "QeS4w0LWGRfH",
        "outputId": "21093312-3542-4bea-bfc2-83dae7e62934"
      },
      "execution_count": null,
      "outputs": [
        {
          "output_type": "stream",
          "name": "stdout",
          "text": [
            "Suma de los primeros n números: 55\n",
            "Suma (alternativa) de los primeros n números: 55\n",
            "Fórmula teórica de las suma de los primeros n números: 55.0\n"
          ]
        }
      ]
    },
    {
      "cell_type": "markdown",
      "source": [
        "<br><font color = #3F6E9A size=5> NOTA IMPORTANTE </font>\n",
        "Debemos ser cuidadosos con la sintaxis usada para definir variables, funciones y clases en programación.\n",
        "\n",
        "\n",
        "```\n",
        "VARIABLES: nombre_de_una_variable\n",
        "\n",
        "FUNCIONES: nombreDeUnaFuncion // nombre_de_una_funcion\n",
        "\n",
        "CLASES: NombreDeUnaClase // Nombre_de_una_clase\n",
        "```\n",
        "\n",
        "Esta notación no es obligatoria cuando programamos en Python pero sí forma parte de lso buenos habítos de programación (como el comentar línea de código).\n",
        "\n",
        "\n",
        "\n"
      ],
      "metadata": {
        "id": "ICwknXn6ck3n"
      }
    },
    {
      "cell_type": "markdown",
      "source": [
        "Como vimos al principio de esta sección, una función puede tener varios argumentos o tomar argumentos que son keywords. \n",
        "\n",
        "Sin embargo, también existen argumentos que podemos \"predefinir\" no solo al llamar nuestra función, sino al definir la misma."
      ],
      "metadata": {
        "id": "nOdvKle5GTmA"
      }
    },
    {
      "cell_type": "code",
      "source": [
        "def ecuacion_recta_origen(x, a=1, b=0):\n",
        "    return a*x + b\n",
        "\n",
        "# Analicemos qué hace ecuacion_recta_origen en cada caso\n",
        "\n",
        "print(ecuacion_recta_origen(1))       # 1*1 + 0\n",
        "print(ecuacion_recta_origen(1, 2))    # 1*2 + 0\n",
        "print(ecuacion_recta_origen(1, 1, 2)) # 1*1 + 2 \n",
        "print(ecuacion_recta_origen(1, b=2))  # 1*1 + 2"
      ],
      "metadata": {
        "colab": {
          "base_uri": "https://localhost:8080/"
        },
        "id": "T_SVJDqSGVY8",
        "outputId": "f4ee9364-a917-48ca-8845-0ed7b5b8994c"
      },
      "execution_count": null,
      "outputs": [
        {
          "output_type": "stream",
          "name": "stdout",
          "text": [
            "1\n",
            "2\n",
            "3\n",
            "3\n"
          ]
        }
      ]
    },
    {
      "cell_type": "markdown",
      "source": [
        "### Ejercicios\n",
        "\n",
        "1. Dada una lista de enteros, por ejemplo a = [1,4,9,16,25,36], escribe una función de Python que tome como argumento esa lista 'a' y devuelva una lista que tenga únicamente sus elementos pares."
      ],
      "metadata": {
        "id": "xXazqSbCG96x"
      }
    },
    {
      "cell_type": "code",
      "source": [
        "def get_even_numbers(input_list):\n",
        "    \"\"\" Esta función devuelve los numeros pares de una lista \n",
        "    input: lista de números enteros\n",
        "    output: lista de números pares\n",
        "    \"\"\"\n",
        "    # Tu código va a continuación\n",
        "    even_numbers_list = []\n",
        "    for elemento in input_list:\n",
        "        if elemento%2==0:\n",
        "            even_numbers_list.append(elemento) \n",
        "    \n",
        "    return even_numbers_list\n",
        "\n",
        "# Forma alternativa de escribir la función\n",
        "def get_even_numbers_bis(input_list):\n",
        "    return [elemento for elemento in input_list if elemento%2==0]"
      ],
      "metadata": {
        "id": "Jk92KAzDG_nh"
      },
      "execution_count": null,
      "outputs": []
    },
    {
      "cell_type": "code",
      "source": [
        "lis=[1,4,9,16,25,36]\n",
        "\n",
        "print(get_even_numbers_bis(lis))"
      ],
      "metadata": {
        "colab": {
          "base_uri": "https://localhost:8080/"
        },
        "id": "J75HxevVHUmO",
        "outputId": "ca60dd1c-2ee5-4e3c-c78b-0db150056026"
      },
      "execution_count": null,
      "outputs": [
        {
          "output_type": "stream",
          "name": "stdout",
          "text": [
            "[4, 16, 36]\n"
          ]
        }
      ]
    },
    {
      "cell_type": "markdown",
      "source": [
        "2. Crea una función que reciba un número entero y devuelva todos los divisores de ese número en una lista. "
      ],
      "metadata": {
        "id": "ZCYHWgCYVGp7"
      }
    },
    {
      "cell_type": "code",
      "source": [
        "def get_divisors(input_integer):\n",
        "    \"\"\"Esta función devuelve todos los divisores de un número dado\n",
        "    input: integer\n",
        "    output: list of divisors\n",
        "    \n",
        "    \"\"\"\n",
        "    return [elemento for elemento in range(1,int(input_integer/2)+1) if input_integer%elemento==0]"
      ],
      "metadata": {
        "id": "if7ZbFPvVISX"
      },
      "execution_count": null,
      "outputs": []
    },
    {
      "cell_type": "code",
      "source": [
        "get_divisors(2022)"
      ],
      "metadata": {
        "colab": {
          "base_uri": "https://localhost:8080/"
        },
        "id": "oFdFSBsTVJxp",
        "outputId": "7ea8948f-0c94-41d3-8b83-7ec25b022687"
      },
      "execution_count": null,
      "outputs": [
        {
          "output_type": "execute_result",
          "data": {
            "text/plain": [
              "[1, 2, 3, 6, 337, 674, 1011]"
            ]
          },
          "metadata": {},
          "execution_count": 10
        }
      ]
    },
    {
      "cell_type": "markdown",
      "source": [
        "3. Escribe una función que determine si un número es primo (número que no tiene divisores) o no. Hint: Usa la función get_divisors()."
      ],
      "metadata": {
        "id": "n9xP854ZVMSh"
      }
    },
    {
      "cell_type": "code",
      "source": [
        "def is_prime(input_integer):\n",
        "    \"\"\" Esta función devuelve True si el numero es primo, False si no es primo\n",
        "    input: un entero\n",
        "    output: un booleano (tipo de dato lógico)\n",
        "    \n",
        "    \"\"\"\n",
        "    \n",
        "    return True if len(get_divisors(input_integer))==1 else False"
      ],
      "metadata": {
        "id": "BmadnaLSVUqb"
      },
      "execution_count": null,
      "outputs": []
    },
    {
      "cell_type": "code",
      "source": [
        "is_prime(13)"
      ],
      "metadata": {
        "colab": {
          "base_uri": "https://localhost:8080/"
        },
        "id": "m7xIxkNCVV_-",
        "outputId": "2c9bc057-16cb-4e85-f7d3-8ded0ccacd49"
      },
      "execution_count": null,
      "outputs": [
        {
          "output_type": "execute_result",
          "data": {
            "text/plain": [
              "True"
            ]
          },
          "metadata": {},
          "execution_count": 12
        }
      ]
    },
    {
      "cell_type": "code",
      "source": [
        "is_prime(2022)"
      ],
      "metadata": {
        "colab": {
          "base_uri": "https://localhost:8080/"
        },
        "id": "IHq5ohVsVXLb",
        "outputId": "9805ab30-cad7-4670-9c94-28080853f950"
      },
      "execution_count": null,
      "outputs": [
        {
          "output_type": "execute_result",
          "data": {
            "text/plain": [
              "False"
            ]
          },
          "metadata": {},
          "execution_count": 13
        }
      ]
    },
    {
      "cell_type": "markdown",
      "source": [
        "## Expresiones lambda en Python\n",
        "\n",
        "Para los casos en que deseamos definir una función sin darle un nompre específico y queremos usar la función una sola vez. En general, las funciones lambdas son consideradas **funciones anónimas**.\n",
        "\n",
        "La estructura para definir estas funciones es la siguiente:\n",
        "\n",
        "\n",
        "```\n",
        "lambda parametro_1, parametros_2, ... : operacion\n",
        "```\n",
        "\n"
      ],
      "metadata": {
        "id": "zXP03_T-ViL2"
      }
    },
    {
      "cell_type": "code",
      "source": [
        "# Funcion que recibe un argumento o parametro y devuelve su cuadrado\n",
        "(lambda x : x**2) (3) "
      ],
      "metadata": {
        "colab": {
          "base_uri": "https://localhost:8080/"
        },
        "id": "Ii0nXA9NVysc",
        "outputId": "d0109d1d-ab7f-4d7e-9940-b5bf47e434ac"
      },
      "execution_count": null,
      "outputs": [
        {
          "output_type": "execute_result",
          "data": {
            "text/plain": [
              "9"
            ]
          },
          "metadata": {},
          "execution_count": 23
        }
      ]
    },
    {
      "cell_type": "code",
      "source": [
        "# Funcion que recibe tres parámetros y devuelve su suma\n",
        "(lambda x,y,z : x + y + z)(1,2,3) "
      ],
      "metadata": {
        "colab": {
          "base_uri": "https://localhost:8080/"
        },
        "id": "MkdTf5GJV1f0",
        "outputId": "e2020758-bc46-45a5-8279-d63f413c8c1e"
      },
      "execution_count": null,
      "outputs": [
        {
          "output_type": "execute_result",
          "data": {
            "text/plain": [
              "6"
            ]
          },
          "metadata": {},
          "execution_count": 15
        }
      ]
    },
    {
      "cell_type": "markdown",
      "source": [
        "Para poder almacenar nuestra función `lambda` debemos almacenarla en una variable (que en realidad será un función) y con ello podremos hacer uso de `lambda` como si de una función se tratase."
      ],
      "metadata": {
        "id": "liVlpBCNe3zw"
      }
    },
    {
      "cell_type": "code",
      "source": [
        "potencia = lambda x, y: x ** y\n",
        "\n",
        "potencia(2, 3)\n",
        "\n",
        "def potencia(x,y):\n",
        "    return x**y\n",
        "\n",
        "potencia(2, 3)"
      ],
      "metadata": {
        "colab": {
          "base_uri": "https://localhost:8080/"
        },
        "id": "DLZGl-WtV3NB",
        "outputId": "b9adcfe3-ed12-49a8-8bdf-a22525010208"
      },
      "execution_count": null,
      "outputs": [
        {
          "output_type": "execute_result",
          "data": {
            "text/plain": [
              "8"
            ]
          },
          "metadata": {},
          "execution_count": 16
        }
      ]
    },
    {
      "cell_type": "markdown",
      "source": [
        "### Función `map()`\n",
        "La función `map()` nos permite aplicar una función a todos los elementos de una lista. El resultado es un objeto iterable tipo `map`. \n",
        "\n",
        "\n",
        "\n",
        "```\n",
        "map(funcion , lista)\n",
        "```"
      ],
      "metadata": {
        "id": "bf4yHEffV8O9"
      }
    },
    {
      "cell_type": "markdown",
      "source": [
        "Por ejemplo, podemos definir una funcion que nos regrese el cuadrado de un número y hacer uso de `map()` para obtener el cuadrado de los elementos de una lista."
      ],
      "metadata": {
        "id": "TeTPeTIEgwvR"
      }
    },
    {
      "cell_type": "code",
      "source": [
        "def eleva_cuadrado(x):\n",
        "    return x ** 2\n",
        "\n",
        "numeros = [2, 5, 10, 23, 50, 33]\n",
        "\n",
        "cuadrado_numeros = map(eleva_cuadrado, numeros)\n",
        "cuadrado_numeros"
      ],
      "metadata": {
        "colab": {
          "base_uri": "https://localhost:8080/"
        },
        "id": "IMcdN2jvXQ4y",
        "outputId": "94a5f354-2876-4191-9fc0-dbb2e17cca82"
      },
      "execution_count": null,
      "outputs": [
        {
          "output_type": "execute_result",
          "data": {
            "text/plain": [
              "<map at 0x7f8b29215ca0>"
            ]
          },
          "metadata": {},
          "execution_count": 21
        }
      ]
    },
    {
      "cell_type": "markdown",
      "source": [
        "Para poder ver nuestro objeto tipo `map` debemos hacerlo una lista mediante la función `list()`"
      ],
      "metadata": {
        "id": "GlJzGzx_Xdgm"
      }
    },
    {
      "cell_type": "code",
      "source": [
        "cuadrado_numeros = map(eleva_cuadrado, numeros)\n",
        "list(cuadrado_numeros)"
      ],
      "metadata": {
        "colab": {
          "base_uri": "https://localhost:8080/"
        },
        "id": "QOtHXu3mXj2v",
        "outputId": "d48a7675-e63c-4471-e191-56ea68ea7dc6"
      },
      "execution_count": null,
      "outputs": [
        {
          "output_type": "execute_result",
          "data": {
            "text/plain": [
              "[4, 10, 20, 46, 100, 66]"
            ]
          },
          "metadata": {},
          "execution_count": 18
        }
      ]
    },
    {
      "cell_type": "markdown",
      "source": [
        "Podemos usar `map()`junto con un operador `lambda`. \n",
        "Por ejemplo, para el problema del cuadrado de los elementos de una lista."
      ],
      "metadata": {
        "id": "WzcARLYpXTDA"
      }
    },
    {
      "cell_type": "code",
      "source": [
        "numeros = [44,5,2,6]\n",
        "\n",
        "cuadrados = map(lambda num: num ** 2, numeros)\n",
        "\n",
        "print(list(cuadrados))"
      ],
      "metadata": {
        "colab": {
          "base_uri": "https://localhost:8080/"
        },
        "id": "mNHFuRxqV6S9",
        "outputId": "95fbd772-646f-443b-a79e-70fb2346b78e"
      },
      "execution_count": null,
      "outputs": [
        {
          "output_type": "stream",
          "name": "stdout",
          "text": [
            "[1936, 25, 4, 36]\n"
          ]
        }
      ]
    },
    {
      "cell_type": "markdown",
      "source": [
        "Por ejemplo si queremos multiplicar los números de dos listas:"
      ],
      "metadata": {
        "id": "CPEL2TiyYAxQ"
      }
    },
    {
      "cell_type": "code",
      "source": [
        "a = [1, 2, 3, 4, 5]\n",
        "b = [6, 7, 8, 9, 10]\n",
        "\n",
        "list( map(lambda x,y : x*y, a,b) )"
      ],
      "metadata": {
        "colab": {
          "base_uri": "https://localhost:8080/"
        },
        "id": "_e8UmCF_YC4I",
        "outputId": "2e8bd756-80c6-4cda-f244-71c0a7c1152d"
      },
      "execution_count": null,
      "outputs": [
        {
          "output_type": "execute_result",
          "data": {
            "text/plain": [
              "[6, 14, 24, 36, 50]"
            ]
          },
          "metadata": {},
          "execution_count": 20
        }
      ]
    }
  ]
}