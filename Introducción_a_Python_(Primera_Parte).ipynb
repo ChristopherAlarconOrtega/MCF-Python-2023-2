{
  "nbformat": 4,
  "nbformat_minor": 0,
  "metadata": {
    "colab": {
      "provenance": []
    },
    "kernelspec": {
      "name": "python3",
      "display_name": "Python 3"
    },
    "language_info": {
      "name": "python"
    }
  },
  "cells": [
    {
      "cell_type": "markdown",
      "source": [
        "</b><font color = #000066 size=6.5> Facultad de Ciencias</font> \n",
        "<br><font color = #CC9933 size=6.5> UNAM </font> \n",
        "<br><font color = ##A1C8DC size=6.5> Métodos Cuantitativos en Finanzas 2023-2 </font> \n",
        " <br><font color = silver size=7> Introducción a Python</font>"
      ],
      "metadata": {
        "id": "SA0-YCVY-m9H"
      }
    },
    {
      "cell_type": "markdown",
      "source": [
        "Referencia principal: *Python for Finance* de Antoine Jacquier."
      ],
      "metadata": {
        "id": "uv4q6GxtB9e_"
      }
    },
    {
      "cell_type": "markdown",
      "source": [
        "# Introducción a Python (Primera Parte)"
      ],
      "metadata": {
        "id": "2zdb_hskAUme"
      }
    },
    {
      "cell_type": "markdown",
      "source": [
        "### ¿Por qué Python?\n",
        "\n",
        "* De acuerdo con *eFinancialCareers*, Python es el lenguaje de programación que te hará conseguir un trabajo en el sistema bancario - *The coding languages that will get you a job in banking, ranked* https://www.efinancialcareers.co.uk/news/finance/the-six-hottest-programming-languages-to-know-in-banking-technology\n",
        "\n",
        "<img src='https://drive.google.com/uc?export=view&id=1kjY6A3LtV117ZjMxY6CNb6npI9WAvLO_' width=500px>\n",
        "\n",
        "\n",
        "*Python: El lenguaje del futuro* https://www.baoss.es/python-el-lenguaje-del-futuro/\n",
        "\n",
        "###  Características del lenguaje de programación\n",
        "* Es simple para entender y fácil de recordar \n",
        "* El código se puede leer como si se estuvieraleyendo algo escrito en inglés ()\n",
        "* Es código abierto \n",
        "\n",
        ">* Libre distribución\n",
        ">* El código fuente de todas las funciones debe estar incluido\n",
        ">* Cualquiera puede modificar/mejorar el código fuente)\n",
        ">* Puede ejecutarse en diferentes dispositivos y sistemas operativos (Windows, IOS, Linux)\n",
        "\n",
        "* Popularmente usardo para Machine Learning y Data Science\n",
        "* Lenguaje interpretado\n",
        "\n",
        ">* A diferencia de los lenguajes compilados, son más lentos\n",
        ">* Más facil para aprender\n",
        ">* Menos estricto para los errores de programación\n",
        "\n",
        "* Alta polularidad y gran apoyo de la comunidad\n",
        "* Tiene una selección extensiva de bibliotecas y paquetes \n",
        ">* Keras, TensorFlow, Scikit-learn para machine learning\n",
        ">* NumPy para para computación científica de alto rendimiento y análisis de datos \n",
        ">* SciPy para computacióm científica avanzada\n",
        ">* Pandas para análisis de datos \n",
        ">* Seaborn para (fancy) visualización de datos"
      ],
      "metadata": {
        "id": "faiJKdXLAEcj"
      }
    },
    {
      "cell_type": "markdown",
      "source": [
        "## Primeros pasos"
      ],
      "metadata": {
        "id": "FoQ_equNQ9u5"
      }
    },
    {
      "cell_type": "markdown",
      "source": [
        "### 1. Celdas `Cell` \n",
        "Una Celda es como un ladrillo. Cada Entorno Colaborativo consiste en múltiples celdas y se pueden añadir con hacer click en la parte superior izquierda ( `+Código` `+Texto`) o bien poniendo nuestro cursos debajo de la última celda del Entorno Colaborativo ( `+Código` `+Texto`). \n",
        "\n",
        "<img src='https://drive.google.com/uc?export=view&id=1JAyanV2N9FrcaY-N6cZpPuYqP0_omRBU' width=1000px>\n",
        "\n",
        "Para eliminar celdas le puedes dar click en la celda y luego seleccionar la casilla `Eliminar Celda` en la esquina superior derecha.\n",
        "\n",
        "#### 1.1 Tipos de celdas\n",
        "\n",
        "En Google Colab hay fundamentalmente dos tipos de celdas:\n",
        "* `Texto`, que podemos usar para escribir texto (como éste) y formulas matemáticas a través de comandos de $LaTeX$, por ejemplo  \n",
        "$$\n",
        "\\frac{1}{2\\pi}\\int_{\\mathbb{R}}\\exp\\left(-\\frac{x^2}{2}\\right)dx = \\cdots\n",
        "$$\n",
        "\n",
        "<br><font color = #3F6E9A size=5> NOTA </font>  Siempre que entreguen tareas en Notebooks de Python y para aplicar a trabajos que soliciten códigos, para hacer tareas en equipo, proyectos, etc.) es importante usar celdas de Texto y Código para hacer más comprensible y entendible su código.\n",
        "\n",
        "\n",
        "* `Código` se utiliza para ejecutar código, los cuales se ejecutan desde un kernel en Colab.\n"
      ],
      "metadata": {
        "id": "abWzxqiJShjJ"
      }
    },
    {
      "cell_type": "code",
      "source": [
        "print(\"¡Hola estudiantes de MCF!\", \"Este es un ejemplo de celda tipo Codigo.\")"
      ],
      "metadata": {
        "colab": {
          "base_uri": "https://localhost:8080/"
        },
        "id": "lD8fGH5Yvd9J",
        "outputId": "3d5dea43-8f95-405b-e8dc-6853ea800990"
      },
      "execution_count": null,
      "outputs": [
        {
          "output_type": "stream",
          "name": "stdout",
          "text": [
            "¡Hola estudiantes de MCF! Este es un ejemplo de celda tipo Codigo.\n"
          ]
        }
      ]
    },
    {
      "cell_type": "markdown",
      "source": [
        "### 2. Python, versión y documentación\n",
        "\n",
        "Como practicantes de Ciencias, no hay necesidad de momorizar decenas de resultados de cálculo diferencial e integral para ocupar esas técnicas, con tal de que sepamos los resultados básicos y los entendamos, para todo lo demás hay tablas o el propio *Google*. \n",
        "\n",
        "Lo mismo pasa con programar, nadie tiene el tiempo de memorizar cada uno de los funciones de Python y muy problablemente hay mucho que nunca tendrán que utilizar. Así, aparte de una pequeña cantidad de funciones que tendrás que memorizar, el resto las puedes buscar en las siguientes fuentes:\n",
        "\n",
        "* La principal documentación de Python está disponible en https://docs.python.org/3.8/reference/ \n",
        "* Stackoverflow es bastante útil para encontrar errores, funciones preestablecidas, etcétera https://stackoverflow.com/\n",
        "* Googléarlo (obviamente)\n",
        "\n",
        "#### Versión de Python\n",
        "\n",
        "Para conocer la versión que estamos usando actualmente se ejecuta el código:\n",
        "\n",
        "`!python3 --version`. "
      ],
      "metadata": {
        "id": "KgZzBszpx0pG"
      }
    },
    {
      "cell_type": "code",
      "source": [
        "!python3 --version"
      ],
      "metadata": {
        "colab": {
          "base_uri": "https://localhost:8080/"
        },
        "id": "A3kmJRwiyJRU",
        "outputId": "4296c3b0-b83b-4922-924d-2f01e066fc07"
      },
      "execution_count": null,
      "outputs": [
        {
          "output_type": "stream",
          "name": "stdout",
          "text": [
            "Python 3.8.10\n"
          ]
        }
      ]
    },
    {
      "cell_type": "markdown",
      "source": [
        "#### Usar el elemento `!` \n",
        "\n",
        "En la celda anterior usamos `!` para conocer la versión que tenemos instalada de Python. El elemento `!` le dice al intérprete que mande el código a la línea de comando terminal de mi computador o bien desde el kernel (núcleo) de mi entorno colaborativo, como lo es Google Colab o Jupyter Notebook. De esta manera podemos utilizar este tipo de código que se debe correr en la terminal, directamente aquí en una celda tipo `Código`."
      ],
      "metadata": {
        "id": "lsLBufTKyU6Z"
      }
    },
    {
      "cell_type": "markdown",
      "source": [
        "### 3. Instalar paquetes/librerías/módulos de Python\n",
        "\n",
        "Uno de los grandes beneficios de Python es que su comunidad desarrolladora es muy activa. Esto significa que, antes de que pienses en implementar un algoritmo por tu cuenta, vale la pena que revises si exite algún paquete de libre distribucón que realice la actividad que necesitas.\n",
        "\n",
        "**PIP (Pip Installs Packages)** *es la herramienta para instalar dichos* paquetes. \n",
        "\n",
        "Por ejemplo, YFinance es popular para obtener datos financieros desde Yahoo Finance, podemos instalarla con `pip install yfinance` en la línea de comandos o terminal.\n",
        "\n",
        "O bien, usando la *keyword* `!` en una celda `Código` de la siguiente manera:"
      ],
      "metadata": {
        "id": "_9HA3Cowyyqm"
      }
    },
    {
      "cell_type": "code",
      "source": [
        "!pip install yfinance"
      ],
      "metadata": {
        "colab": {
          "base_uri": "https://localhost:8080/"
        },
        "id": "WDOKphN4zEQQ",
        "outputId": "cbcd5486-cafe-4925-b55f-b288a2600729"
      },
      "execution_count": null,
      "outputs": [
        {
          "output_type": "stream",
          "name": "stdout",
          "text": [
            "Looking in indexes: https://pypi.org/simple, https://us-python.pkg.dev/colab-wheels/public/simple/\n",
            "Requirement already satisfied: yfinance in /usr/local/lib/python3.8/dist-packages (0.2.12)\n",
            "Requirement already satisfied: multitasking>=0.0.7 in /usr/local/lib/python3.8/dist-packages (from yfinance) (0.0.11)\n",
            "Requirement already satisfied: appdirs>=1.4.4 in /usr/local/lib/python3.8/dist-packages (from yfinance) (1.4.4)\n",
            "Requirement already satisfied: requests>=2.26 in /usr/local/lib/python3.8/dist-packages (from yfinance) (2.28.2)\n",
            "Requirement already satisfied: lxml>=4.9.1 in /usr/local/lib/python3.8/dist-packages (from yfinance) (4.9.2)\n",
            "Requirement already satisfied: beautifulsoup4>=4.11.1 in /usr/local/lib/python3.8/dist-packages (from yfinance) (4.11.2)\n",
            "Requirement already satisfied: frozendict>=2.3.4 in /usr/local/lib/python3.8/dist-packages (from yfinance) (2.3.5)\n",
            "Requirement already satisfied: pytz>=2022.5 in /usr/local/lib/python3.8/dist-packages (from yfinance) (2022.7.1)\n",
            "Requirement already satisfied: html5lib>=1.1 in /usr/local/lib/python3.8/dist-packages (from yfinance) (1.1)\n",
            "Requirement already satisfied: cryptography>=3.3.2 in /usr/local/lib/python3.8/dist-packages (from yfinance) (39.0.1)\n",
            "Requirement already satisfied: pandas>=1.3.0 in /usr/local/lib/python3.8/dist-packages (from yfinance) (1.3.5)\n",
            "Requirement already satisfied: numpy>=1.16.5 in /usr/local/lib/python3.8/dist-packages (from yfinance) (1.21.6)\n",
            "Requirement already satisfied: soupsieve>1.2 in /usr/local/lib/python3.8/dist-packages (from beautifulsoup4>=4.11.1->yfinance) (2.4)\n",
            "Requirement already satisfied: cffi>=1.12 in /usr/local/lib/python3.8/dist-packages (from cryptography>=3.3.2->yfinance) (1.15.1)\n",
            "Requirement already satisfied: six>=1.9 in /usr/local/lib/python3.8/dist-packages (from html5lib>=1.1->yfinance) (1.15.0)\n",
            "Requirement already satisfied: webencodings in /usr/local/lib/python3.8/dist-packages (from html5lib>=1.1->yfinance) (0.5.1)\n",
            "Requirement already satisfied: python-dateutil>=2.7.3 in /usr/local/lib/python3.8/dist-packages (from pandas>=1.3.0->yfinance) (2.8.2)\n",
            "Requirement already satisfied: idna<4,>=2.5 in /usr/local/lib/python3.8/dist-packages (from requests>=2.26->yfinance) (2.10)\n",
            "Requirement already satisfied: urllib3<1.27,>=1.21.1 in /usr/local/lib/python3.8/dist-packages (from requests>=2.26->yfinance) (1.24.3)\n",
            "Requirement already satisfied: certifi>=2017.4.17 in /usr/local/lib/python3.8/dist-packages (from requests>=2.26->yfinance) (2022.12.7)\n",
            "Requirement already satisfied: charset-normalizer<4,>=2 in /usr/local/lib/python3.8/dist-packages (from requests>=2.26->yfinance) (3.0.1)\n",
            "Requirement already satisfied: pycparser in /usr/local/lib/python3.8/dist-packages (from cffi>=1.12->cryptography>=3.3.2->yfinance) (2.21)\n"
          ]
        }
      ]
    },
    {
      "cell_type": "markdown",
      "source": [
        "## Datos numéricos y operaciones elementales"
      ],
      "metadata": {
        "id": "xjlXe7a4zjO2"
      }
    },
    {
      "cell_type": "markdown",
      "source": [
        "En Python existen tres tipos de datos numéricos elementales:\n",
        "\n",
        "\n",
        "1.   `int`\n",
        "2.   `float`\n",
        "3.   `complex`\n",
        "\n",
        "\n",
        "\n"
      ],
      "metadata": {
        "id": "pDqfGASGKlIZ"
      }
    },
    {
      "cell_type": "markdown",
      "source": [
        "#### Datos númeicos de tipo enteros: `int`"
      ],
      "metadata": {
        "id": "At4foiAMIRV7"
      }
    },
    {
      "cell_type": "markdown",
      "source": [
        "Este tipo de variables se asocia al conjunto de los números enteros, sin embargo la capacidad de almacenar números muy muy grandes se ve limitado por la capacidad de memoria a la que tenga acceso nuestro sistema."
      ],
      "metadata": {
        "id": "EPS2oyOxIwf8"
      }
    },
    {
      "cell_type": "code",
      "source": [
        "5+2"
      ],
      "metadata": {
        "colab": {
          "base_uri": "https://localhost:8080/"
        },
        "id": "iM66eny63-OI",
        "outputId": "dddcd0b7-828a-4380-b360-7037f9f4c651"
      },
      "execution_count": null,
      "outputs": [
        {
          "output_type": "execute_result",
          "data": {
            "text/plain": [
              "7"
            ]
          },
          "metadata": {},
          "execution_count": 33
        }
      ]
    },
    {
      "cell_type": "code",
      "source": [
        "a = 5\n",
        "b = -7\n",
        "\n",
        "print(type(a))\n",
        "print(type(b))"
      ],
      "metadata": {
        "colab": {
          "base_uri": "https://localhost:8080/"
        },
        "id": "xO-l7e_4zsCD",
        "outputId": "5ef3a1f5-5077-42f8-f0c5-8ad167508173"
      },
      "execution_count": null,
      "outputs": [
        {
          "output_type": "stream",
          "name": "stdout",
          "text": [
            "<class 'int'>\n",
            "<class 'int'>\n"
          ]
        }
      ]
    },
    {
      "cell_type": "markdown",
      "source": [
        "<br><font color = #3F6E9A size=5> NOTA </font> `type()`es una ***función*** base de Python que recibe una variable y nos indica la ***Clase*** a la que pertenece. En este caso, a y b son elementos de la Clase `int`"
      ],
      "metadata": {
        "id": "2q7Vjl7DJXxM"
      }
    },
    {
      "cell_type": "markdown",
      "source": [
        "#### Datos numéricos de tipo punto flotante: `float`"
      ],
      "metadata": {
        "id": "7a1j_zcXJJsg"
      }
    },
    {
      "cell_type": "markdown",
      "source": [
        "Este tipo de datos se asocia a los números reales que tienen una parte decimal."
      ],
      "metadata": {
        "id": "03Inf_2vKhHw"
      }
    },
    {
      "cell_type": "code",
      "source": [
        "c = 21.54\n",
        "d = -18.96\n",
        "e = 1.0\n",
        "\n",
        "print(type(c))\n",
        "print(type(d))\n",
        "print(type(e))"
      ],
      "metadata": {
        "colab": {
          "base_uri": "https://localhost:8080/"
        },
        "id": "JZqVEbJFKgGc",
        "outputId": "68bb613d-08c5-4573-c457-4152f0a4054b"
      },
      "execution_count": null,
      "outputs": [
        {
          "output_type": "stream",
          "name": "stdout",
          "text": [
            "<class 'float'>\n",
            "<class 'float'>\n",
            "<class 'float'>\n"
          ]
        }
      ]
    },
    {
      "cell_type": "markdown",
      "source": [
        "#### Datos numéricos de tipo número complejo: `complex`"
      ],
      "metadata": {
        "id": "-GEy9dKSL4uC"
      }
    },
    {
      "cell_type": "markdown",
      "source": [
        "Este tipo de datos se asocia a números pertenecientes al conjunto de los números complejos, aquellos que expresamos con una parte real y una parte imaginaria, es decir del tipo:\n",
        "$$ z = a + ib$$\n",
        "Donde $a,b\\in \\mathbb{R}$.\n",
        "\n",
        "No obstante, la forma de escribir un número complejo en Python sigue una estructura de la siguiente forma:\n",
        "```\n",
        "z = a + bj\n",
        "```\n",
        "\n"
      ],
      "metadata": {
        "id": "54D2DxUCL_vD"
      }
    },
    {
      "cell_type": "code",
      "source": [
        "z = 4 + 10j\n",
        "w = -1 + 2j\n",
        "\n",
        "print(type(z))\n",
        "print(type(w))"
      ],
      "metadata": {
        "colab": {
          "base_uri": "https://localhost:8080/"
        },
        "id": "xYtjHVadMrBo",
        "outputId": "097a9f87-951b-45a4-8535-c853d7e8f074"
      },
      "execution_count": null,
      "outputs": [
        {
          "output_type": "stream",
          "name": "stdout",
          "text": [
            "<class 'complex'>\n",
            "<class 'complex'>\n"
          ]
        }
      ]
    },
    {
      "cell_type": "markdown",
      "source": [
        "## Operaciones básicas en Python "
      ],
      "metadata": {
        "id": "0g6CK25DNzok"
      }
    },
    {
      "cell_type": "markdown",
      "source": [
        "La suma de dos números la indicamos con `+` de la siguiente manera"
      ],
      "metadata": {
        "id": "QRrdbzohOkQQ"
      }
    },
    {
      "cell_type": "code",
      "source": [
        "a = 5\n",
        "b = -7.5\n",
        "c = a + b\n",
        "\n",
        "print(a+b)\n",
        "print(c)"
      ],
      "metadata": {
        "colab": {
          "base_uri": "https://localhost:8080/"
        },
        "id": "2dU34L_xOwYw",
        "outputId": "42a653cd-6e9b-4a76-874a-b26dcf089434"
      },
      "execution_count": null,
      "outputs": [
        {
          "output_type": "stream",
          "name": "stdout",
          "text": [
            "-2.5\n",
            "-2.5\n"
          ]
        }
      ]
    },
    {
      "cell_type": "markdown",
      "source": [
        "El producto de dos números lo indicamos mediante `*` de forma análoga a la suma"
      ],
      "metadata": {
        "id": "1I0mc0CTPI-z"
      }
    },
    {
      "cell_type": "code",
      "source": [
        "a = 5.0\n",
        "b = -7.0\n",
        "c = a * b\n",
        "\n",
        "print(a * b)\n",
        "print(c)"
      ],
      "metadata": {
        "colab": {
          "base_uri": "https://localhost:8080/"
        },
        "id": "FK4TaR2EPVWa",
        "outputId": "98becd46-fb2e-42fc-c270-ee234193f911"
      },
      "execution_count": null,
      "outputs": [
        {
          "output_type": "stream",
          "name": "stdout",
          "text": [
            "-35.0\n",
            "-35.0\n"
          ]
        }
      ]
    },
    {
      "cell_type": "markdown",
      "source": [
        "\n",
        "La potencia la indicamos en Python con doble asterisco `** `, notando que en este caso (a diferencia de la suma o el producto) es importante el orden en que se indique la operación.\n",
        "\n",
        "Básicamente:\n",
        "\n",
        "$$ a ** b := a^b $$"
      ],
      "metadata": {
        "id": "CbDsydHE0rKC"
      }
    },
    {
      "cell_type": "code",
      "source": [
        "a = 5.0\n",
        "b = 3.0\n",
        "c = a ** b\n",
        "\n",
        "print(a ** b)\n",
        "print(c)"
      ],
      "metadata": {
        "colab": {
          "base_uri": "https://localhost:8080/"
        },
        "id": "jWhztXal0ua6",
        "outputId": "57ddbb10-1e4e-4ac5-f105-e893191e9c0c"
      },
      "execution_count": null,
      "outputs": [
        {
          "output_type": "stream",
          "name": "stdout",
          "text": [
            "125.0\n",
            "125.0\n"
          ]
        }
      ]
    },
    {
      "cell_type": "markdown",
      "source": [
        "La división la indicamos a través de `/` de la siguiente forma"
      ],
      "metadata": {
        "id": "nGEccsDLQjgz"
      }
    },
    {
      "cell_type": "code",
      "source": [
        "a = 10 \n",
        "b = 5\n",
        "c = a / b\n",
        "\n",
        "print(a / b)\n",
        "print(c)"
      ],
      "metadata": {
        "colab": {
          "base_uri": "https://localhost:8080/"
        },
        "id": "gyO_fNBNQrbz",
        "outputId": "ee293a1c-c245-44e4-8fd5-a1d22bc7e8e4"
      },
      "execution_count": null,
      "outputs": [
        {
          "output_type": "stream",
          "name": "stdout",
          "text": [
            "2.0\n",
            "2.0\n"
          ]
        }
      ]
    },
    {
      "cell_type": "markdown",
      "source": [
        "<br><font color = #3F6E9A size=5> NOTA </font> El operador `^` no indica una potencia, pero sí el operador lógico XOR (veer https://es.wikipedia.org/wiki/Disyunción_exclusiva)."
      ],
      "metadata": {
        "id": "gqpqCK7T08r8"
      }
    },
    {
      "cell_type": "markdown",
      "source": [
        "Como buena práctica de programación, para comentar nuestras líneas de código usamos `#`, de modo que todo lo que le proceda al sìmbolo *gato* \"no será ejecutado\"."
      ],
      "metadata": {
        "id": "TdOL8pDE0zMV"
      }
    },
    {
      "cell_type": "code",
      "source": [
        "a = 10\n",
        "b = 2\n",
        "\n",
        "print(a+b) # esto es un comentario"
      ],
      "metadata": {
        "colab": {
          "base_uri": "https://localhost:8080/"
        },
        "id": "PMR9nz9N04PD",
        "outputId": "a532b44a-1d84-44e4-f9fa-40f1301b9622"
      },
      "execution_count": null,
      "outputs": [
        {
          "output_type": "stream",
          "name": "stdout",
          "text": [
            "12\n"
          ]
        }
      ]
    },
    {
      "cell_type": "markdown",
      "source": [
        "También podemos agregar múltiples comentarios, por ejemplo para indicar más de un comentario a modo de párrafo agregando tres comillas simples `'''` antes del primer comentario y tres comillas simples `'''` después del último comentario."
      ],
      "metadata": {
        "id": "5SN1UsEXRTEo"
      }
    },
    {
      "cell_type": "code",
      "source": [
        "'''\n",
        "Este es un comentario multilinea\n",
        "Puedo escribir\n",
        "Tantas lineas como sean necesarias\n",
        "'''"
      ],
      "metadata": {
        "colab": {
          "base_uri": "https://localhost:8080/",
          "height": 36
        },
        "id": "3wB8jbqGRdk3",
        "outputId": "702e51a7-c51a-4607-89b9-1280fae91aa8"
      },
      "execution_count": null,
      "outputs": [
        {
          "output_type": "execute_result",
          "data": {
            "text/plain": [
              "'\\nEste es un comentario multilinea\\nPuedo escribir\\nTantas lineas como sean necesarias\\n'"
            ],
            "application/vnd.google.colaboratory.intrinsic+json": {
              "type": "string"
            }
          },
          "metadata": {},
          "execution_count": 42
        }
      ]
    },
    {
      "cell_type": "markdown",
      "source": [
        "Es común usar los comentarios multilínea para especificar partes de nuestro código, como la implementación de una clase, los parámetros de una función e incluso indicar comentarios importantes sobre el código en su totalidad."
      ],
      "metadata": {
        "id": "uFads8xiVJ5k"
      }
    },
    {
      "cell_type": "code",
      "source": [
        "'''\n",
        "Este codigo es una continuacion del curso de Python del curso de Métodos Cuantitativos en Finanzas.\n",
        "\n",
        "@author Luis Eduardo Pavon Tinoco (P)\n",
        "_author_ = \"Christopher Alejandro Alarcon Ortega\"\n",
        "\n",
        "_since_ = \"XFC\"\n",
        "_date_ = \"february 14, 2023 20:34\"\n",
        "_version_ = \"1 -- 3\"\n",
        "\n",
        "_contact_ = \"christopher.alarcon@ciencias.unam.mx\"\n",
        "\n",
        "_status_ = \"Active\"\n",
        "'''"
      ],
      "metadata": {
        "colab": {
          "base_uri": "https://localhost:8080/",
          "height": 70
        },
        "id": "pwYqPHYqR17P",
        "outputId": "50cabb98-8be8-490e-fa94-692226dfbd34"
      },
      "execution_count": null,
      "outputs": [
        {
          "output_type": "execute_result",
          "data": {
            "text/plain": [
              "'\\nEste codigo es una continuacion del curso de Python del curso de Métodos Cuantitativos en Finanzas.\\n\\n@author Luis Eduardo Pavon Tinoco (P)\\n_author_ = \"Christopher Alejandro Alarcon Ortega\"\\n\\n_since_ = \"XFC\"\\n_date_ = \"february 14, 2023 20:34\"\\n_version_ = \"1 -- 3\"\\n\\n_contact_ = \"christopher.alarcon@ciencias.unam.mx\"\\n\\n_status_ = \"Active\"\\n'"
            ],
            "application/vnd.google.colaboratory.intrinsic+json": {
              "type": "string"
            }
          },
          "metadata": {},
          "execution_count": 43
        }
      ]
    },
    {
      "cell_type": "markdown",
      "source": [
        "## Otros tipos de datos"
      ],
      "metadata": {
        "id": "0vA7cF9uUAZ1"
      }
    },
    {
      "cell_type": "markdown",
      "source": [
        "### Tipos de datos Booleanos: `bool`"
      ],
      "metadata": {
        "id": "9lyK1JLhUGVU"
      }
    },
    {
      "cell_type": "markdown",
      "source": [
        "Este tipo de datos están asociados a valores booleanos (como el lógica). Esta clase solo se puedn asociar (instanciar) a dos valores:\n",
        "\n",
        "\n",
        "1.   `True`, para representar elementos con valor de verdad verdadero.\n",
        "2.   `False` para representar elementos con valor de verdad falso.\n",
        "\n",
        "Como veremos más adelante, este tipo de datos cobran relevancia cuando buscamos implementarlos en condicionales o ciclos, como los son `if`, `elif` o `while`.\n"
      ],
      "metadata": {
        "id": "3Yno5TVkUNyg"
      }
    },
    {
      "cell_type": "markdown",
      "source": [
        "### Tipos de datos Cadena de Caracteres (String): `str`"
      ],
      "metadata": {
        "id": "UPRGs4xmXKAd"
      }
    },
    {
      "cell_type": "markdown",
      "source": [
        "A diferencia de los tipos de datos que hemos visto hasta ahora, este tipo de datos nos permiten almacenar cadenas alfanuméricas. Por ejemplo: "
      ],
      "metadata": {
        "id": "d9glnsciXakE"
      }
    },
    {
      "cell_type": "code",
      "source": [
        "greeting = \"Hola! Este es un saludo predeterminado\"\n",
        "name = \"Christopher Alarcon Ortega\"\n",
        "age = '17'\n",
        "chisme = \"Lo ultimo que le dijo fue: 'Ya mejor aquí la dejamos' \"\n",
        "\n",
        "print(chisme)\n",
        "print(type(chisme))"
      ],
      "metadata": {
        "colab": {
          "base_uri": "https://localhost:8080/"
        },
        "id": "5yAskMEVXw7o",
        "outputId": "cc986649-6972-418a-a932-46d872b6b703"
      },
      "execution_count": null,
      "outputs": [
        {
          "output_type": "stream",
          "name": "stdout",
          "text": [
            "Lo ultimo que le dijo fue: 'Ya mejor aquí la dejamos' \n",
            "<class 'str'>\n"
          ]
        }
      ]
    },
    {
      "cell_type": "markdown",
      "source": [
        "Dentro de este tipo de instancias, existe una operación llamada *Concatenación*, que básicamente me permite unir dos variables `str` en una sola, es una especie de \"suma\"."
      ],
      "metadata": {
        "id": "C7yF4vdnZGEZ"
      }
    },
    {
      "cell_type": "code",
      "source": [
        "saludo = \"Hola,\"\n",
        "pregunta = \"¿Cómo estás?\"\n",
        "nombre = \"Chris\"\n",
        "\n",
        "#print(saludo + nombre + pregunta)\n",
        "\n",
        "print(saludo + \" \" + nombre + \" \" + pregunta)\n",
        "\n",
        "#print(saludo + \" \" + nombre + \". ¿Cómo estás?\")"
      ],
      "metadata": {
        "colab": {
          "base_uri": "https://localhost:8080/"
        },
        "id": "G54x9wu0ZeRq",
        "outputId": "1542ff16-170f-4d1c-abe5-129d65402111"
      },
      "execution_count": null,
      "outputs": [
        {
          "output_type": "stream",
          "name": "stdout",
          "text": [
            "Hola, Chris ¿Cómo estás?\n"
          ]
        }
      ]
    },
    {
      "cell_type": "markdown",
      "source": [
        "## Métodos de conversión de datos"
      ],
      "metadata": {
        "id": "lFbr9RZNh7-4"
      }
    },
    {
      "cell_type": "markdown",
      "source": [
        "Imagina que tienes una variable edad de tipo  cuyo valor es '25'. Se podría decir que edad, aunque realmente es una cadena de caracteres, contiene un número. Sin embargo, si intentas sumar 10 a edad, el intérprete te dará un error porque edad es de tipo str y 10 un tipo numérico."
      ],
      "metadata": {
        "id": "QML3FzFJiIAc"
      }
    },
    {
      "cell_type": "code",
      "source": [
        "edad = 10\n",
        "edad = edad + 10"
      ],
      "metadata": {
        "colab": {
          "base_uri": "https://localhost:8080/",
          "height": 182
        },
        "id": "UBMUvCYwiWeS",
        "outputId": "6b908f36-189c-4f46-abac-a058c34841c3"
      },
      "execution_count": null,
      "outputs": [
        {
          "output_type": "error",
          "ename": "TypeError",
          "evalue": "ignored",
          "traceback": [
            "\u001b[0;31m---------------------------------------------------------------------------\u001b[0m",
            "\u001b[0;31mTypeError\u001b[0m                                 Traceback (most recent call last)",
            "\u001b[0;32m<ipython-input-46-ee7b6d942ef1>\u001b[0m in \u001b[0;36m<module>\u001b[0;34m\u001b[0m\n\u001b[1;32m      1\u001b[0m \u001b[0medad\u001b[0m \u001b[0;34m=\u001b[0m \u001b[0;34m\"10\"\u001b[0m\u001b[0;34m\u001b[0m\u001b[0;34m\u001b[0m\u001b[0m\n\u001b[0;32m----> 2\u001b[0;31m \u001b[0medad\u001b[0m \u001b[0;34m=\u001b[0m \u001b[0medad\u001b[0m \u001b[0;34m+\u001b[0m \u001b[0;36m10\u001b[0m\u001b[0;34m\u001b[0m\u001b[0;34m\u001b[0m\u001b[0m\n\u001b[0m",
            "\u001b[0;31mTypeError\u001b[0m: can only concatenate str (not \"int\") to str"
          ]
        }
      ]
    },
    {
      "cell_type": "markdown",
      "source": [
        "La solución natural sería modificar desde nuestro código la variable edad de tipo `str` por su versión `int`. No obstante, Python nos ofrece una muy sencilla solución a este tipo de problemas con los princiaples tipos de datos que hemos revisado hasta el momento:\n",
        "\n",
        "\n",
        "1.   `int()`: Devuelve la representación `int` del objeto que demos como parámetros, que puede ser un número flotante o una cadena de caracteres. \n",
        "2.   `str()`: Devuelve la representación en cadena de caracteres del objeto que se pasa como parámetro.\n",
        "3.   `float()`: Devuelve la representación `float` del objeto que demos como parámetro.\n",
        "4.   `complex()`: Devuelve la representación `complex` del objeto que demos como parámetro.\n"
      ],
      "metadata": {
        "id": "EJNlYephjH71"
      }
    },
    {
      "cell_type": "code",
      "source": [
        "edad = '10'\n",
        "edad = int(edad) + 5\n",
        "print(edad)\n",
        "\n",
        "print(\"Carlos tiene \" + str(edad) + \" años\")"
      ],
      "metadata": {
        "colab": {
          "base_uri": "https://localhost:8080/"
        },
        "id": "0jcXjn7MkT5Q",
        "outputId": "5ff94f41-6dd4-4a42-ec0f-9a250202e37b"
      },
      "execution_count": null,
      "outputs": [
        {
          "output_type": "stream",
          "name": "stdout",
          "text": [
            "15\n",
            "Carlos tiene 15 años\n"
          ]
        }
      ]
    },
    {
      "cell_type": "code",
      "source": [
        "edad = 15\n",
        "edad = float(edad)\n",
        "print(type(edad))"
      ],
      "metadata": {
        "colab": {
          "base_uri": "https://localhost:8080/"
        },
        "id": "0nfJC7V4kwvU",
        "outputId": "dd2401fb-7c76-4e52-975f-a20272ce9cb8"
      },
      "execution_count": null,
      "outputs": [
        {
          "output_type": "stream",
          "name": "stdout",
          "text": [
            "<class 'float'>\n"
          ]
        }
      ]
    },
    {
      "cell_type": "code",
      "source": [
        "saludo = \"Hola!\"\n",
        "saludo = float(saludo)"
      ],
      "metadata": {
        "colab": {
          "base_uri": "https://localhost:8080/",
          "height": 182
        },
        "id": "FFVdxxW9lEwE",
        "outputId": "eca8d388-5714-477e-8e86-441938854b0f"
      },
      "execution_count": null,
      "outputs": [
        {
          "output_type": "error",
          "ename": "ValueError",
          "evalue": "ignored",
          "traceback": [
            "\u001b[0;31m---------------------------------------------------------------------------\u001b[0m",
            "\u001b[0;31mValueError\u001b[0m                                Traceback (most recent call last)",
            "\u001b[0;32m<ipython-input-49-f70bc81334e1>\u001b[0m in \u001b[0;36m<module>\u001b[0;34m\u001b[0m\n\u001b[1;32m      1\u001b[0m \u001b[0msaludo\u001b[0m \u001b[0;34m=\u001b[0m \u001b[0;34m\"Hola!\"\u001b[0m\u001b[0;34m\u001b[0m\u001b[0;34m\u001b[0m\u001b[0m\n\u001b[0;32m----> 2\u001b[0;31m \u001b[0msaludo\u001b[0m \u001b[0;34m=\u001b[0m \u001b[0mfloat\u001b[0m\u001b[0;34m(\u001b[0m\u001b[0msaludo\u001b[0m\u001b[0;34m)\u001b[0m\u001b[0;34m\u001b[0m\u001b[0;34m\u001b[0m\u001b[0m\n\u001b[0m",
            "\u001b[0;31mValueError\u001b[0m: could not convert string to float: 'Hola!'"
          ]
        }
      ]
    },
    {
      "cell_type": "markdown",
      "source": [
        "## Keywords\n",
        "\n",
        "Las *keywords* son caracteres especiales que no pueden ser usados para darle nombre a una variable, ya que ellas tienen una implementación interna"
      ],
      "metadata": {
        "id": "FNCTrupy1AW5"
      }
    },
    {
      "cell_type": "code",
      "source": [
        "import keyword\n",
        "print(keyword.kwlist)"
      ],
      "metadata": {
        "colab": {
          "base_uri": "https://localhost:8080/"
        },
        "id": "bnLvgvbemat4",
        "outputId": "997b222d-768f-41ea-bc29-bc4ceb53965c"
      },
      "execution_count": null,
      "outputs": [
        {
          "output_type": "stream",
          "name": "stdout",
          "text": [
            "['False', 'None', 'True', 'and', 'as', 'assert', 'async', 'await', 'break', 'class', 'continue', 'def', 'del', 'elif', 'else', 'except', 'finally', 'for', 'from', 'global', 'if', 'import', 'in', 'is', 'lambda', 'nonlocal', 'not', 'or', 'pass', 'raise', 'return', 'try', 'while', 'with', 'yield']\n"
          ]
        }
      ]
    },
    {
      "cell_type": "code",
      "source": [
        "False = 10"
      ],
      "metadata": {
        "colab": {
          "base_uri": "https://localhost:8080/",
          "height": 130
        },
        "id": "9yVaXJiHmb47",
        "outputId": "55e2924e-532a-4d28-a150-3254523477d2"
      },
      "execution_count": null,
      "outputs": [
        {
          "output_type": "error",
          "ename": "SyntaxError",
          "evalue": "ignored",
          "traceback": [
            "\u001b[0;36m  File \u001b[0;32m\"<ipython-input-52-892860a61661>\"\u001b[0;36m, line \u001b[0;32m1\u001b[0m\n\u001b[0;31m    False = 10\u001b[0m\n\u001b[0m    ^\u001b[0m\n\u001b[0;31mSyntaxError\u001b[0m\u001b[0;31m:\u001b[0m cannot assign to False\n"
          ]
        }
      ]
    },
    {
      "cell_type": "markdown",
      "source": [
        "### Keyword `is`\n",
        "\n",
        "Usamos `is` para verificar, por ejemplo, si dos variables son del mismo tipo."
      ],
      "metadata": {
        "id": "7o3PTiwhlwKO"
      }
    },
    {
      "cell_type": "code",
      "source": [
        "a = 5\n",
        "b = 3.14\n",
        "c = 10000.0\n",
        "\n",
        "type(a) is type(c)"
      ],
      "metadata": {
        "colab": {
          "base_uri": "https://localhost:8080/"
        },
        "id": "iB75eECTl2Cw",
        "outputId": "5998d72e-996b-453c-c321-4769faec701b"
      },
      "execution_count": null,
      "outputs": [
        {
          "output_type": "execute_result",
          "data": {
            "text/plain": [
              "False"
            ]
          },
          "metadata": {},
          "execution_count": 95
        }
      ]
    },
    {
      "cell_type": "code",
      "source": [
        "type(a) == type(c) #== es equivalente (en valor de verdad) al keyword is"
      ],
      "metadata": {
        "colab": {
          "base_uri": "https://localhost:8080/"
        },
        "id": "hyTFeCCUmE4u",
        "outputId": "b3743323-5599-48cc-aae6-3db9eb93f5ca"
      },
      "execution_count": null,
      "outputs": [
        {
          "output_type": "execute_result",
          "data": {
            "text/plain": [
              "False"
            ]
          },
          "metadata": {},
          "execution_count": 96
        }
      ]
    },
    {
      "cell_type": "code",
      "source": [
        "type(b) == type(c)"
      ],
      "metadata": {
        "colab": {
          "base_uri": "https://localhost:8080/"
        },
        "id": "cO0S34Aml6FZ",
        "outputId": "e3b26a56-a94f-4118-f04f-bfcd4518a2b6"
      },
      "execution_count": null,
      "outputs": [
        {
          "output_type": "execute_result",
          "data": {
            "text/plain": [
              "True"
            ]
          },
          "metadata": {},
          "execution_count": 97
        }
      ]
    },
    {
      "cell_type": "code",
      "source": [
        "(type(b) is type(c)) is True"
      ],
      "metadata": {
        "colab": {
          "base_uri": "https://localhost:8080/"
        },
        "id": "Mmy4SYEUl70S",
        "outputId": "57a9f224-9a78-4620-e1e6-349978f5d640"
      },
      "execution_count": null,
      "outputs": [
        {
          "output_type": "execute_result",
          "data": {
            "text/plain": [
              "True"
            ]
          },
          "metadata": {},
          "execution_count": 98
        }
      ]
    },
    {
      "cell_type": "markdown",
      "source": [
        "## Importar módulos/paquetes/blibliotecas"
      ],
      "metadata": {
        "id": "9jp1N0EU1FeF"
      }
    },
    {
      "cell_type": "markdown",
      "source": [
        "Para saber qué módulos hay actualmente en el directorio se ejecuta "
      ],
      "metadata": {
        "id": "oZZVsot_1TSv"
      }
    },
    {
      "cell_type": "code",
      "source": [
        "dir()"
      ],
      "metadata": {
        "colab": {
          "base_uri": "https://localhost:8080/"
        },
        "id": "iPUJgMdT1U1c",
        "outputId": "7e09dd4d-fce7-4c6e-9d31-9f4d57b3c90e"
      },
      "execution_count": null,
      "outputs": [
        {
          "output_type": "execute_result",
          "data": {
            "text/plain": [
              "['In',\n",
              " 'Out',\n",
              " '_',\n",
              " '_1',\n",
              " '_14',\n",
              " '_15',\n",
              " '_20',\n",
              " '_21',\n",
              " '_24',\n",
              " '_25',\n",
              " '_33',\n",
              " '_42',\n",
              " '_43',\n",
              " '_5',\n",
              " '_53',\n",
              " '_54',\n",
              " '_56',\n",
              " '_60',\n",
              " '_62',\n",
              " '_63',\n",
              " '_69',\n",
              " '_70',\n",
              " '_82',\n",
              " '_85',\n",
              " '_87',\n",
              " '_88',\n",
              " '_89',\n",
              " '_93',\n",
              " '_95',\n",
              " '_96',\n",
              " '_97',\n",
              " '_98',\n",
              " '__',\n",
              " '___',\n",
              " '__builtin__',\n",
              " '__builtins__',\n",
              " '__doc__',\n",
              " '__loader__',\n",
              " '__name__',\n",
              " '__package__',\n",
              " '__spec__',\n",
              " '_dh',\n",
              " '_exit_code',\n",
              " '_i',\n",
              " '_i1',\n",
              " '_i10',\n",
              " '_i11',\n",
              " '_i12',\n",
              " '_i13',\n",
              " '_i14',\n",
              " '_i15',\n",
              " '_i16',\n",
              " '_i17',\n",
              " '_i18',\n",
              " '_i19',\n",
              " '_i2',\n",
              " '_i20',\n",
              " '_i21',\n",
              " '_i22',\n",
              " '_i23',\n",
              " '_i24',\n",
              " '_i25',\n",
              " '_i26',\n",
              " '_i27',\n",
              " '_i28',\n",
              " '_i29',\n",
              " '_i3',\n",
              " '_i30',\n",
              " '_i31',\n",
              " '_i32',\n",
              " '_i33',\n",
              " '_i34',\n",
              " '_i35',\n",
              " '_i36',\n",
              " '_i37',\n",
              " '_i38',\n",
              " '_i39',\n",
              " '_i4',\n",
              " '_i40',\n",
              " '_i41',\n",
              " '_i42',\n",
              " '_i43',\n",
              " '_i44',\n",
              " '_i45',\n",
              " '_i46',\n",
              " '_i47',\n",
              " '_i48',\n",
              " '_i49',\n",
              " '_i5',\n",
              " '_i50',\n",
              " '_i51',\n",
              " '_i52',\n",
              " '_i53',\n",
              " '_i54',\n",
              " '_i55',\n",
              " '_i56',\n",
              " '_i57',\n",
              " '_i58',\n",
              " '_i59',\n",
              " '_i6',\n",
              " '_i60',\n",
              " '_i61',\n",
              " '_i62',\n",
              " '_i63',\n",
              " '_i64',\n",
              " '_i65',\n",
              " '_i66',\n",
              " '_i67',\n",
              " '_i68',\n",
              " '_i69',\n",
              " '_i7',\n",
              " '_i70',\n",
              " '_i71',\n",
              " '_i72',\n",
              " '_i73',\n",
              " '_i74',\n",
              " '_i75',\n",
              " '_i76',\n",
              " '_i77',\n",
              " '_i78',\n",
              " '_i79',\n",
              " '_i8',\n",
              " '_i80',\n",
              " '_i81',\n",
              " '_i82',\n",
              " '_i83',\n",
              " '_i84',\n",
              " '_i85',\n",
              " '_i86',\n",
              " '_i87',\n",
              " '_i88',\n",
              " '_i89',\n",
              " '_i9',\n",
              " '_i90',\n",
              " '_i91',\n",
              " '_i92',\n",
              " '_i93',\n",
              " '_i94',\n",
              " '_i95',\n",
              " '_i96',\n",
              " '_i97',\n",
              " '_i98',\n",
              " '_i99',\n",
              " '_ih',\n",
              " '_ii',\n",
              " '_iii',\n",
              " '_oh',\n",
              " 'a',\n",
              " 'age',\n",
              " 'b',\n",
              " 'c',\n",
              " 'chisme',\n",
              " 'command',\n",
              " 'comun',\n",
              " 'copy',\n",
              " 'd',\n",
              " 'e',\n",
              " 'edad',\n",
              " 'element',\n",
              " 'elemento',\n",
              " 'exit',\n",
              " 'get_ipython',\n",
              " 'greeting',\n",
              " 'i',\n",
              " 'index',\n",
              " 'keyword',\n",
              " 'lista',\n",
              " 'matplotlib',\n",
              " 'mi_copia',\n",
              " 'mi_lista',\n",
              " 'mi_lista_cuadrada',\n",
              " 'mi_otra_lista',\n",
              " 'mi_tupla',\n",
              " 'n',\n",
              " 'name',\n",
              " 'nombre',\n",
              " 'nombres_1',\n",
              " 'nombres_2',\n",
              " 'np',\n",
              " 'numeros',\n",
              " 'numpy',\n",
              " 'pandas',\n",
              " 'pregunta',\n",
              " 'quit',\n",
              " 'resultados',\n",
              " 'saludo',\n",
              " 'scipy',\n",
              " 'w',\n",
              " 'x',\n",
              " 'z']"
            ]
          },
          "metadata": {},
          "execution_count": 99
        }
      ]
    },
    {
      "cell_type": "markdown",
      "source": [
        "Una característica importante de Python como ecosistema, en comparación con otro lenguaje de programación, es la disponibilidad de una gran cantidad de bibliotecas y herramientas. \n",
        "\n",
        "Estas bibliotecas y herramientas generalmente deben **importarse** cuando de necesiten (por ejemplo, una biblioteca de trazado). *Importar* `import` significa hacer que una biblioteca esté disponible para el espacio de nombres actual y el proceso de interpretación de Python actual. \n",
        "\n",
        "Python en sí ya viene con un gran conjunto de bibliotecas que mejoran el intérprete básico en diferentes direcciones. Por ejemplo, cálculos matemáticos básicos, mientras que requiere operaciones (digamos) funciones matemáticas más complejas deben importarse a través de la biblioteca `math`. Cuando se inicia un programa de Python, solo tiene acceso a funciones y clases básicas.\n",
        "(\"int\", \"dict\", \"len\", \"sum\", \"range\", ...) "
      ],
      "metadata": {
        "id": "v7mSvNLJ1oCt"
      }
    },
    {
      "cell_type": "code",
      "source": [
        "import numpy # numerical library and manipulating arrays - flagship\n",
        "import pandas # panel data - series and dataframes - also flagship\n",
        "import matplotlib # graphics library\n",
        "import scipy # scientific python \n",
        "import nltk  # for natural language processing "
      ],
      "metadata": {
        "id": "RQbk-G7o1qcV"
      },
      "execution_count": null,
      "outputs": []
    },
    {
      "cell_type": "markdown",
      "source": [
        "Después de usar cualquier módulo, si ya no lo vamos a ocupar más se borra con la palabra `del`"
      ],
      "metadata": {
        "id": "HUcEVZy61t-J"
      }
    },
    {
      "cell_type": "code",
      "source": [
        "del nltk\n",
        "dir()"
      ],
      "metadata": {
        "colab": {
          "base_uri": "https://localhost:8080/"
        },
        "id": "M7lCw5EY1vbc",
        "outputId": "4891bd3b-336a-43bc-8220-e069ca6a7428"
      },
      "execution_count": null,
      "outputs": [
        {
          "output_type": "execute_result",
          "data": {
            "text/plain": [
              "['In',\n",
              " 'Out',\n",
              " '_',\n",
              " '_1',\n",
              " '_14',\n",
              " '_15',\n",
              " '_20',\n",
              " '_21',\n",
              " '_24',\n",
              " '_25',\n",
              " '_33',\n",
              " '_42',\n",
              " '_43',\n",
              " '_5',\n",
              " '_53',\n",
              " '_54',\n",
              " '_56',\n",
              " '_60',\n",
              " '_62',\n",
              " '_63',\n",
              " '_69',\n",
              " '_70',\n",
              " '_82',\n",
              " '_85',\n",
              " '_87',\n",
              " '_88',\n",
              " '_89',\n",
              " '_93',\n",
              " '_95',\n",
              " '_96',\n",
              " '_97',\n",
              " '_98',\n",
              " '_99',\n",
              " '__',\n",
              " '___',\n",
              " '__builtin__',\n",
              " '__builtins__',\n",
              " '__doc__',\n",
              " '__loader__',\n",
              " '__name__',\n",
              " '__package__',\n",
              " '__spec__',\n",
              " '_dh',\n",
              " '_exit_code',\n",
              " '_i',\n",
              " '_i1',\n",
              " '_i10',\n",
              " '_i100',\n",
              " '_i101',\n",
              " '_i11',\n",
              " '_i12',\n",
              " '_i13',\n",
              " '_i14',\n",
              " '_i15',\n",
              " '_i16',\n",
              " '_i17',\n",
              " '_i18',\n",
              " '_i19',\n",
              " '_i2',\n",
              " '_i20',\n",
              " '_i21',\n",
              " '_i22',\n",
              " '_i23',\n",
              " '_i24',\n",
              " '_i25',\n",
              " '_i26',\n",
              " '_i27',\n",
              " '_i28',\n",
              " '_i29',\n",
              " '_i3',\n",
              " '_i30',\n",
              " '_i31',\n",
              " '_i32',\n",
              " '_i33',\n",
              " '_i34',\n",
              " '_i35',\n",
              " '_i36',\n",
              " '_i37',\n",
              " '_i38',\n",
              " '_i39',\n",
              " '_i4',\n",
              " '_i40',\n",
              " '_i41',\n",
              " '_i42',\n",
              " '_i43',\n",
              " '_i44',\n",
              " '_i45',\n",
              " '_i46',\n",
              " '_i47',\n",
              " '_i48',\n",
              " '_i49',\n",
              " '_i5',\n",
              " '_i50',\n",
              " '_i51',\n",
              " '_i52',\n",
              " '_i53',\n",
              " '_i54',\n",
              " '_i55',\n",
              " '_i56',\n",
              " '_i57',\n",
              " '_i58',\n",
              " '_i59',\n",
              " '_i6',\n",
              " '_i60',\n",
              " '_i61',\n",
              " '_i62',\n",
              " '_i63',\n",
              " '_i64',\n",
              " '_i65',\n",
              " '_i66',\n",
              " '_i67',\n",
              " '_i68',\n",
              " '_i69',\n",
              " '_i7',\n",
              " '_i70',\n",
              " '_i71',\n",
              " '_i72',\n",
              " '_i73',\n",
              " '_i74',\n",
              " '_i75',\n",
              " '_i76',\n",
              " '_i77',\n",
              " '_i78',\n",
              " '_i79',\n",
              " '_i8',\n",
              " '_i80',\n",
              " '_i81',\n",
              " '_i82',\n",
              " '_i83',\n",
              " '_i84',\n",
              " '_i85',\n",
              " '_i86',\n",
              " '_i87',\n",
              " '_i88',\n",
              " '_i89',\n",
              " '_i9',\n",
              " '_i90',\n",
              " '_i91',\n",
              " '_i92',\n",
              " '_i93',\n",
              " '_i94',\n",
              " '_i95',\n",
              " '_i96',\n",
              " '_i97',\n",
              " '_i98',\n",
              " '_i99',\n",
              " '_ih',\n",
              " '_ii',\n",
              " '_iii',\n",
              " '_oh',\n",
              " 'a',\n",
              " 'age',\n",
              " 'b',\n",
              " 'c',\n",
              " 'chisme',\n",
              " 'command',\n",
              " 'comun',\n",
              " 'copy',\n",
              " 'd',\n",
              " 'e',\n",
              " 'edad',\n",
              " 'element',\n",
              " 'elemento',\n",
              " 'exit',\n",
              " 'get_ipython',\n",
              " 'greeting',\n",
              " 'i',\n",
              " 'index',\n",
              " 'keyword',\n",
              " 'lista',\n",
              " 'matplotlib',\n",
              " 'mi_copia',\n",
              " 'mi_lista',\n",
              " 'mi_lista_cuadrada',\n",
              " 'mi_otra_lista',\n",
              " 'mi_tupla',\n",
              " 'n',\n",
              " 'name',\n",
              " 'nombre',\n",
              " 'nombres_1',\n",
              " 'nombres_2',\n",
              " 'np',\n",
              " 'numeros',\n",
              " 'numpy',\n",
              " 'pandas',\n",
              " 'pregunta',\n",
              " 'quit',\n",
              " 'resultados',\n",
              " 'saludo',\n",
              " 'scipy',\n",
              " 'w',\n",
              " 'x',\n",
              " 'z']"
            ]
          },
          "metadata": {},
          "execution_count": 101
        }
      ]
    },
    {
      "cell_type": "markdown",
      "source": [
        "Se recomienda altamente usar la notación de objetos. Esa práctica le permite al programador tener mayor control y hacer más legible el código. Como ejemplo tenemos el módulo `numpy` y sar el objeto '`np` que se ve como sigue:"
      ],
      "metadata": {
        "id": "wGt3LAtW1zA0"
      }
    },
    {
      "cell_type": "code",
      "source": [
        "import numpy as np"
      ],
      "metadata": {
        "id": "AJD3SLf510zn"
      },
      "execution_count": null,
      "outputs": []
    },
    {
      "cell_type": "markdown",
      "source": [
        "## Listas, tuplas e índices\n",
        "\n",
        "Al programar, vamos a querer usar objetos que guarden múltiples variables como arreglos (piensa en la series de tiempo financieras). Las **listas** y las **tuplas** te permiten hacer eso."
      ],
      "metadata": {
        "id": "KK-uDCoLu4kZ"
      }
    },
    {
      "cell_type": "code",
      "source": [
        "mi_lista = [3,1,4,1,6] #Las listas (vectores) usan corchetes []\n",
        "\n",
        "mi_tupla = (3,1,4,1,6) #Las tuplas usan corchetes ()"
      ],
      "metadata": {
        "id": "IGjzqGGvvKOp"
      },
      "execution_count": null,
      "outputs": []
    },
    {
      "cell_type": "markdown",
      "source": [
        "Para acceder al los elementos de la lista o la tupla usamos su índice, notando que la indexación empieza en 0."
      ],
      "metadata": {
        "id": "UhwA_8mwvkIX"
      }
    },
    {
      "cell_type": "code",
      "source": [
        "print(\"El primer elemento de mi lista es\", mi_lista[0])\n",
        "print(\"El segundo elemento es\", mi_lista[1])\n",
        "print(\"El último elemento de mi tupla es\", mi_tupla[-1])\n",
        "print(\"El penúltimo elemento es\", mi_tupla[-2])"
      ],
      "metadata": {
        "colab": {
          "base_uri": "https://localhost:8080/"
        },
        "id": "1xkmcYNavl_j",
        "outputId": "0e524ea5-ab65-438e-b37c-6096fa73e87f"
      },
      "execution_count": null,
      "outputs": [
        {
          "output_type": "stream",
          "name": "stdout",
          "text": [
            "El primer elemento de mi lista es 3\n",
            "El segundo elemento es 1\n",
            "El último elemento de mi tupla es 6\n",
            "El penúltimo elemento es 1\n"
          ]
        }
      ]
    },
    {
      "cell_type": "markdown",
      "source": [
        "La forma de *indexar* los elementos de una lista, tupla o cadena de elementos cualquiera (por ejemplo, la cadena $\\mathbb{C}1\\varepsilon(\\eta)ci\\alpha\\int$ ) en Python es iniciando con el cero y sumando uno por cada elemento al indizar de izquierda a derecha, o iniciando con el -1 y sumándole -1 a cada elemento si se indiza de derecha a izquierda.\n",
        "\n",
        "<img src=\"https://drive.google.com/uc?export=view&id=14ZkvDSYdo7YSi8SGAuqGCkM4P4YIa6o8\" style=\"width:200px\">\n",
        "\n",
        "Para acceder a una secuencia de más de un elemento de la lista o tupla hacemos lo siguiente:\n",
        "\n",
        "`[ primer_indice : ultimo_indice+1 ]` \n",
        "\n",
        "o también podemos obtener todos los elementos entre dos índices cada *n* pasos \n",
        "\n",
        "`[ primer_indice : ultimo_indice+1 : numero_de_pasos ]`"
      ],
      "metadata": {
        "id": "g1VerKo8vqgb"
      }
    },
    {
      "cell_type": "code",
      "source": [
        "print(\"Los primeros dos elementos de mi lista son\", mi_lista[0:2])\n",
        "print(\"También, los primeros dos elementos de mi lista son\", mi_lista[:2])\n",
        "\n",
        "print(\"Los últimos dos elementos de mi lista son\", mi_lista[:-2])\n",
        "print(\"Los cinco primeros elementos de mi lista pero cada 2 pasos (uno sí y uno no) son\",  mi_lista[0:5:2])\n",
        "mi_lista"
      ],
      "metadata": {
        "colab": {
          "base_uri": "https://localhost:8080/"
        },
        "id": "xEontd_OxoYd",
        "outputId": "f587f4c4-156c-472e-f4e2-18d4423405ab"
      },
      "execution_count": null,
      "outputs": [
        {
          "output_type": "stream",
          "name": "stdout",
          "text": [
            "Los primeros dos elementos de mi lista son [3, 1]\n",
            "También, los primeros dos elementos de mi lista son [3, 1]\n",
            "Los últimos dos elementos de mi lista son [3, 1, 4]\n",
            "Los cinco primeros elementos de mi lista pero cada 2 pasos (uno sí y uno no) son [3, 4, 6]\n"
          ]
        },
        {
          "output_type": "execute_result",
          "data": {
            "text/plain": [
              "[3, 1, 4, 1, 6]"
            ]
          },
          "metadata": {},
          "execution_count": 105
        }
      ]
    },
    {
      "cell_type": "code",
      "source": [
        "mi_otra_lista = [100 , True , 3.1416]\n",
        "print(\"El primer elemento es\", type(mi_otra_lista[0]))\n",
        "print(\"El segundo elemento es\", type(mi_otra_lista[1]))\n",
        "print(\"El tercer elemento es \", type(mi_otra_lista[2]))"
      ],
      "metadata": {
        "colab": {
          "base_uri": "https://localhost:8080/"
        },
        "id": "xWJ_R4aOyAuI",
        "outputId": "bb047ecb-9fbb-4a0d-f677-ee0b2a46cbe0"
      },
      "execution_count": null,
      "outputs": [
        {
          "output_type": "stream",
          "name": "stdout",
          "text": [
            "El primer elemento es <class 'int'>\n",
            "El segundo elemento es <class 'bool'>\n",
            "El tercer elemento es  <class 'float'>\n"
          ]
        }
      ]
    },
    {
      "cell_type": "markdown",
      "source": [
        "La diferencia entre una lista y una tupla es que **las listas son instancias mutables** mientras que las tupplas no. \n",
        "\n",
        "Es decir, *una vez que creas una tupla no puedes modificar ese objeto*, por el contrario, una lista sí puede ser modificada incluso después de haber sido creada.\n",
        "\n",
        "En otras palabras, podemos modificar el valor de los elementos de una lista, e incluso añadir y/o quitar elementos."
      ],
      "metadata": {
        "id": "KL5HR7uMyC0y"
      }
    },
    {
      "cell_type": "code",
      "source": [
        "mi_lista"
      ],
      "metadata": {
        "colab": {
          "base_uri": "https://localhost:8080/"
        },
        "id": "o1dT6sMu1lvP",
        "outputId": "a263b52e-16c0-4c36-e1b4-f3fb4bb66793"
      },
      "execution_count": null,
      "outputs": [
        {
          "output_type": "execute_result",
          "data": {
            "text/plain": [
              "[3, 1, 4, 1, 6]"
            ]
          },
          "metadata": {},
          "execution_count": 107
        }
      ]
    },
    {
      "cell_type": "code",
      "source": [
        "mi_lista[0] = 5\n",
        "mi_lista"
      ],
      "metadata": {
        "colab": {
          "base_uri": "https://localhost:8080/"
        },
        "id": "tND1MjiKCl9N",
        "outputId": "0f76e76d-551c-4ef9-bafb-684bd775c77d"
      },
      "execution_count": null,
      "outputs": [
        {
          "output_type": "execute_result",
          "data": {
            "text/plain": [
              "[5, 1, 4, 1, 6]"
            ]
          },
          "metadata": {},
          "execution_count": 108
        }
      ]
    },
    {
      "cell_type": "markdown",
      "source": [
        "Para quitar elementos de una lista usamos el método **.remove()**. \n",
        "El argumento de este métodos es el índice del elemento que deseamos quitar de nuestra lista. "
      ],
      "metadata": {
        "id": "ljHpYS_x1pNv"
      }
    },
    {
      "cell_type": "code",
      "source": [
        "mi_lista.remove(1) # Como argumento el elemento que queremos borrar\n",
        "print(mi_lista)"
      ],
      "metadata": {
        "colab": {
          "base_uri": "https://localhost:8080/"
        },
        "id": "_TfOmsid1n8y",
        "outputId": "659c72f5-8110-4d16-8e45-d48c3461d0cf"
      },
      "execution_count": null,
      "outputs": [
        {
          "output_type": "stream",
          "name": "stdout",
          "text": [
            "[5, 4, 1, 6]\n"
          ]
        }
      ]
    },
    {
      "cell_type": "markdown",
      "source": [
        "Para añadir elementos a una lista usamos el método **.append()**. Notar que este método añade un elemento al final de la lista (en el índice -1) y recibe como parámetro el elemento a añadir."
      ],
      "metadata": {
        "id": "1Y2vP05Y2XG2"
      }
    },
    {
      "cell_type": "code",
      "source": [
        "mi_lista.append(5) # Como argumento el elemento que queremos añadir\n",
        "print(mi_lista)"
      ],
      "metadata": {
        "colab": {
          "base_uri": "https://localhost:8080/"
        },
        "id": "vHX9d_tL2lq4",
        "outputId": "7b7f04d1-b373-49e0-c6a2-4a64651a5e66"
      },
      "execution_count": null,
      "outputs": [
        {
          "output_type": "stream",
          "name": "stdout",
          "text": [
            "[5, 4, 1, 6, 5]\n"
          ]
        }
      ]
    },
    {
      "cell_type": "markdown",
      "source": [
        "Para añadir elementos a una lista, indicando el índice en donde queremos sea almacenado, usamos el método **.insert()**. \n",
        "Este método recibe dos parámetros. El primer parámetro corresponde el índice y el segundo al elemento a añadir."
      ],
      "metadata": {
        "id": "ZC_9BPqw2qE_"
      }
    },
    {
      "cell_type": "code",
      "source": [
        "mi_lista.insert(2,9) # Primer argumento el índice y el segundo argumento el elemento a añadir\n",
        "print(mi_lista)"
      ],
      "metadata": {
        "colab": {
          "base_uri": "https://localhost:8080/"
        },
        "id": "Xcbj2cDz2VlV",
        "outputId": "c48698b2-aa1c-417e-d1f9-9bb9778737cc"
      },
      "execution_count": null,
      "outputs": [
        {
          "output_type": "stream",
          "name": "stdout",
          "text": [
            "[5, 4, 9, 1, 6, 5]\n"
          ]
        }
      ]
    },
    {
      "cell_type": "markdown",
      "source": [
        "Otros métodos de listas en Python:\n",
        "\n",
        "\n",
        "1.   `.reverse()`: nos devuelve una lista \"en reversa\", es decir con los elementos indexados empezando por el último y de forma \n",
        "2.   `.extend()`: nos permite unir dos listas en una sola lista\n",
        "3.   `.count()`: cuenta el número de veces que aparece un elemento en una lista\n",
        "4.  `.index()`: nos indica el primer índice en donde aparece un elemento en una lista.\n",
        "5.  `.remove()`: borra el primer elemento de una lista que coincida con un valor que nosotros especificamos.\n",
        "6.  `.sort()`: ordena los elementos de una lista de menor a mayor. El parámetro opcional `reverse`nos permite idicar si es de forma ascendente o descendente.\n",
        "7.  `.clear()`: vacía todos los elementos de una lista. \n",
        "\n"
      ],
      "metadata": {
        "id": "42UoDRTs3Lhi"
      }
    },
    {
      "cell_type": "code",
      "source": [
        "mi_lista = [3, 4, 1, 6, 5, 9]\n",
        "\n",
        "mi_lista.reverse()\n",
        "print(mi_lista)"
      ],
      "metadata": {
        "colab": {
          "base_uri": "https://localhost:8080/"
        },
        "id": "kefN4pOhGfZD",
        "outputId": "54ccdad4-7c38-4dbf-c3da-3f17da38b87f"
      },
      "execution_count": null,
      "outputs": [
        {
          "output_type": "stream",
          "name": "stdout",
          "text": [
            "[9, 5, 6, 1, 4, 3]\n"
          ]
        }
      ]
    },
    {
      "cell_type": "code",
      "source": [
        "mi_lista = [3, True, \"Variable\", 6, \"MCF\", 9]\n",
        "lista = [8,2,4,1]\n",
        "mi_lista.extend(lista)\n",
        "\n",
        "print(mi_lista)"
      ],
      "metadata": {
        "colab": {
          "base_uri": "https://localhost:8080/"
        },
        "id": "Uo3n9tck6fCd",
        "outputId": "9c62fac9-71b9-4cae-bcfe-145377b591c0"
      },
      "execution_count": null,
      "outputs": [
        {
          "output_type": "stream",
          "name": "stdout",
          "text": [
            "[3, True, 'Variable', 6, 'MCF', 9, 8, 2, 4, 1]\n"
          ]
        }
      ]
    },
    {
      "cell_type": "code",
      "source": [
        "mi_lista = [3, \"29\", True, \"Variable\", 6, \"MCF\", True]\n",
        "\n",
        "mi_lista.count(True)"
      ],
      "metadata": {
        "colab": {
          "base_uri": "https://localhost:8080/"
        },
        "id": "e6r3aW_pGshD",
        "outputId": "1d27b18f-4bdc-4b26-97c2-22d111a1e2ed"
      },
      "execution_count": null,
      "outputs": [
        {
          "output_type": "execute_result",
          "data": {
            "text/plain": [
              "2"
            ]
          },
          "metadata": {},
          "execution_count": 114
        }
      ]
    },
    {
      "cell_type": "code",
      "source": [
        "mi_lista = [3, \"29\", True, \"Variable\", 6, \"MCF\", True]\n",
        "\n",
        "mi_lista.index(True)"
      ],
      "metadata": {
        "colab": {
          "base_uri": "https://localhost:8080/"
        },
        "id": "9XQK5hEMHPg7",
        "outputId": "83b0211d-8d96-488f-8a8d-e4b8b60241c8"
      },
      "execution_count": null,
      "outputs": [
        {
          "output_type": "execute_result",
          "data": {
            "text/plain": [
              "2"
            ]
          },
          "metadata": {},
          "execution_count": 115
        }
      ]
    },
    {
      "cell_type": "code",
      "source": [
        "mi_lista = [3, \"29\", True, \"Variable\", 6, \"MCF\", True, \"Variable\"]\n",
        "\n",
        "mi_lista.remove(\"Variable\")\n",
        "print(mi_lista)"
      ],
      "metadata": {
        "colab": {
          "base_uri": "https://localhost:8080/"
        },
        "id": "9uc_Gbp7HhiM",
        "outputId": "2f3a9bb9-5c25-483f-88e1-1747cf7504c6"
      },
      "execution_count": null,
      "outputs": [
        {
          "output_type": "stream",
          "name": "stdout",
          "text": [
            "[3, '29', True, 6, 'MCF', True, 'Variable']\n"
          ]
        }
      ]
    },
    {
      "cell_type": "code",
      "source": [
        "mi_lista = [3, 29, -10, 11, 8, -28, -12, 100]\n",
        "\n",
        "mi_lista.sort()\n",
        "print(mi_lista)"
      ],
      "metadata": {
        "colab": {
          "base_uri": "https://localhost:8080/"
        },
        "id": "SBHLt9oqIO0R",
        "outputId": "4f6a93a8-eb90-4098-dcbc-be32b2e9aa7c"
      },
      "execution_count": null,
      "outputs": [
        {
          "output_type": "stream",
          "name": "stdout",
          "text": [
            "[-28, -12, -10, 3, 8, 11, 29, 100]\n"
          ]
        }
      ]
    },
    {
      "cell_type": "code",
      "source": [
        "mi_lista.sort(reverse=True)\n",
        "print(mi_lista)"
      ],
      "metadata": {
        "colab": {
          "base_uri": "https://localhost:8080/"
        },
        "id": "IyITeSjcI0G_",
        "outputId": "2d5fa69a-5262-40c1-b3b2-12a5dcd3fd3c"
      },
      "execution_count": null,
      "outputs": [
        {
          "output_type": "stream",
          "name": "stdout",
          "text": [
            "[100, 29, 11, 8, 3, -10, -12, -28]\n"
          ]
        }
      ]
    },
    {
      "cell_type": "code",
      "source": [
        "mi_lista.clear()\n",
        "print(mi_lista)"
      ],
      "metadata": {
        "colab": {
          "base_uri": "https://localhost:8080/"
        },
        "id": "00wDfq2U6Lsc",
        "outputId": "e114c8c5-fa5a-4ff5-b9d6-47feb55f1b4b"
      },
      "execution_count": null,
      "outputs": [
        {
          "output_type": "stream",
          "name": "stdout",
          "text": [
            "[]\n"
          ]
        }
      ]
    },
    {
      "cell_type": "markdown",
      "source": [
        "<br><font color = #3F6E9A size=5> NOTA </font> Cuando hacemos una copia de una lista, lo que cambiamos en una, se cambia en las dos"
      ],
      "metadata": {
        "id": "8c1kNjhgJPhT"
      }
    },
    {
      "cell_type": "code",
      "source": [
        "mi_lista = [8,9,7] \n",
        "mi_copia = mi_lista\n",
        "mi_copia[0] = 10\n",
        "print(mi_copia)\n",
        "print(mi_lista)"
      ],
      "metadata": {
        "colab": {
          "base_uri": "https://localhost:8080/"
        },
        "id": "iD8RRo69JFf0",
        "outputId": "d7618336-ea5f-48a5-992d-9b2078e2d73b"
      },
      "execution_count": null,
      "outputs": [
        {
          "output_type": "stream",
          "name": "stdout",
          "text": [
            "[10, 9, 7]\n",
            "[10, 9, 7]\n"
          ]
        }
      ]
    },
    {
      "cell_type": "markdown",
      "source": [
        "Para solucionar esto, podemos hacer uso de la librería `copy`e implementar la siguiente función"
      ],
      "metadata": {
        "id": "30xfL18FJUb9"
      }
    },
    {
      "cell_type": "code",
      "source": [
        "import copy\n",
        "\n",
        "mi_lista = [8,9,7]\n",
        "mi_copia = copy.deepcopy(mi_lista)\n",
        "mi_copia[2] = 6\n",
        "print(mi_copia)\n",
        "print(mi_lista)"
      ],
      "metadata": {
        "colab": {
          "base_uri": "https://localhost:8080/"
        },
        "id": "ud5-LTjmJbqh",
        "outputId": "93ca355f-4b58-4d18-c409-c67f464fbe81"
      },
      "execution_count": null,
      "outputs": [
        {
          "output_type": "stream",
          "name": "stdout",
          "text": [
            "[8, 9, 6]\n",
            "[8, 9, 7]\n"
          ]
        }
      ]
    },
    {
      "cell_type": "markdown",
      "source": [
        "## Sentencias Condicionales\n",
        "\n",
        "Las sentencias condicionales nos permiten realizar una operación o secuencia de código siempre que una condición se cumpla (o no).\n",
        "\n",
        "Típicamente, las operaciones que verificamos a modo de condicionales son `<, >, ==, !=`"
      ],
      "metadata": {
        "id": "7qSX03DPNDnH"
      }
    },
    {
      "cell_type": "markdown",
      "source": [
        "La primer sentencia condicional es `if`. Esta sentencia realiza la siguiente verificación:\n",
        "\n",
        "\n",
        "```\n",
        "if condicion :\n",
        "  el bloque se ejecuta\n",
        "  ...\n",
        "  ...\n",
        "codigo\n",
        "```\n"
      ],
      "metadata": {
        "id": "TiZjCZVbn-Vb"
      }
    },
    {
      "cell_type": "markdown",
      "source": [
        "También tenemos una sentencia `if-else` que nos permite tener una opción alternativa en caso de que la condición del `if` sea falsa.\n",
        "\n",
        "En contraste con el condicional `if`, `if-else` siempre se ejecuta."
      ],
      "metadata": {
        "id": "oJw2YDASqANW"
      }
    },
    {
      "cell_type": "code",
      "source": [
        "a = 10\n",
        "\n",
        "if a > 5:\n",
        "    print(\"La variable 'a' es mayor que 5\")\n",
        "else:\n",
        "    print(\"La variable 'a' es menor o igual que 5\")"
      ],
      "metadata": {
        "colab": {
          "base_uri": "https://localhost:8080/"
        },
        "id": "NOwyZrmtNR4R",
        "outputId": "20c4617b-96d5-4d37-f4f4-1867ae36b859"
      },
      "execution_count": null,
      "outputs": [
        {
          "output_type": "stream",
          "name": "stdout",
          "text": [
            "La variable 'a' es mayor que 5\n"
          ]
        }
      ]
    },
    {
      "cell_type": "code",
      "source": [
        "a = 7\n",
        "\n",
        "if a % 2 == 0:\n",
        "    print(\"El numero \", a , \" es un numero par\")\n",
        "else:\n",
        "    print(\"El numero \", a , \"es un número impar\")"
      ],
      "metadata": {
        "colab": {
          "base_uri": "https://localhost:8080/"
        },
        "id": "cjfyFr-bor_V",
        "outputId": "aee9cfa0-7a26-498a-957d-658fd797ae5e"
      },
      "execution_count": null,
      "outputs": [
        {
          "output_type": "stream",
          "name": "stdout",
          "text": [
            "El numero  7 es un número impar\n"
          ]
        }
      ]
    },
    {
      "cell_type": "markdown",
      "source": [
        "También nos puede surgir el caso en el que queramos realizar distintas acciones según el valor de una variable. \n",
        "Para solucionar esto podemos usar la sentencia `elif` todas las veces que necesitemos después de una sentencia `if`."
      ],
      "metadata": {
        "id": "q9SLij4apZjM"
      }
    },
    {
      "cell_type": "code",
      "source": [
        "command = input()\n",
        "\n",
        "if command == 'a':\n",
        "    print('Acciones del comando a')\n",
        "elif command == 'b':\n",
        "    print('Acciones del comando b')\n",
        "elif command == 'c':\n",
        "    print('Acciones del comando c')\n",
        "else:\n",
        "    print('Comando inválido')\n"
      ],
      "metadata": {
        "colab": {
          "base_uri": "https://localhost:8080/"
        },
        "id": "o5QosNcmpEVs",
        "outputId": "dc567cd7-cc1f-44d8-8404-ab1ab85075ec"
      },
      "execution_count": null,
      "outputs": [
        {
          "output_type": "stream",
          "name": "stdout",
          "text": [
            "a\n",
            "Acciones del comando a\n"
          ]
        }
      ]
    },
    {
      "cell_type": "markdown",
      "source": [
        "También podemos tener sentencias `if-else` dentro de otras sentencias `if-else`"
      ],
      "metadata": {
        "id": "gAVCM9Zzqcn-"
      }
    },
    {
      "cell_type": "code",
      "source": [
        "x = 34\n",
        "if x %  2 == 0:\n",
        "  if x > 10:\n",
        "    print(\"Este número es par y es mayor que 10\")\n",
        "  else:\n",
        "    print(\"Este número es par, pero no mayor 10\")\n",
        "else:\n",
        "  print (\"El número no es par. Así que punto de verificación más.\")"
      ],
      "metadata": {
        "colab": {
          "base_uri": "https://localhost:8080/"
        },
        "id": "IbMrMBM4orhs",
        "outputId": "7a500c13-264e-4014-fa3e-0cafcc372861"
      },
      "execution_count": null,
      "outputs": [
        {
          "output_type": "stream",
          "name": "stdout",
          "text": [
            "Este número es par y es mayor que 10\n"
          ]
        }
      ]
    },
    {
      "cell_type": "markdown",
      "source": [
        "## Ciclos o Bucles\n",
        "\n",
        "Los *ciclos* son operaciones fundamentales en programación. Nos permiten iterar una o varias líneas de código teniendo las veces que nosotros así lo deseemos. \n",
        "\n",
        "El ejemplo siguiente es un ciclo sobre un arreglo.\n",
        "\n",
        "En este contexto, la *identación*  nos permite conocer los límites y alcances de nuestro ciclo."
      ],
      "metadata": {
        "id": "_I5U8BCFJfL1"
      }
    },
    {
      "cell_type": "code",
      "source": [
        "for i in range(10):\n",
        "    print(\"Número de ciclo\", i)\n",
        "\n",
        "#print(\"-------\")\n",
        "#print(\"Siempre iniciará en 0!!!\")"
      ],
      "metadata": {
        "colab": {
          "base_uri": "https://localhost:8080/"
        },
        "id": "Ia3-jba9JekA",
        "outputId": "50467b40-0f3a-4838-eb53-96378c99072c"
      },
      "execution_count": null,
      "outputs": [
        {
          "output_type": "stream",
          "name": "stdout",
          "text": [
            "Número de ciclo 0\n",
            "Número de ciclo 1\n",
            "Número de ciclo 2\n",
            "Número de ciclo 3\n",
            "Número de ciclo 4\n",
            "Número de ciclo 5\n",
            "Número de ciclo 6\n",
            "Número de ciclo 7\n",
            "Número de ciclo 8\n",
            "Número de ciclo 9\n"
          ]
        }
      ]
    },
    {
      "cell_type": "code",
      "source": [
        "['¡hola!',1,True,1000]\n",
        "enumerate( ['¡hola!',1,True,1000] )\n",
        "list( enumerate( ['¡hola!',1,True,1000] ) )"
      ],
      "metadata": {
        "colab": {
          "base_uri": "https://localhost:8080/"
        },
        "id": "Ui8tRWqiKA2C",
        "outputId": "6ca88423-9ab5-4170-c48a-78f16549b8d8"
      },
      "execution_count": null,
      "outputs": [
        {
          "output_type": "execute_result",
          "data": {
            "text/plain": [
              "[(0, '¡hola!'), (1, 1), (2, True), (3, 1000)]"
            ]
          },
          "metadata": {},
          "execution_count": 3
        }
      ]
    },
    {
      "cell_type": "code",
      "source": [
        "'''\n",
        "for elemento in list( enumerate( ['¡hola!',1,True,1000] )): \n",
        "    print(elemento)\n",
        "print(\"-------\")\n",
        "'''\n",
        "for index, elemento in enumerate( ['¡hola!',1,True,1000] ): \n",
        "    print(\"El elemento\", index ,\" en la lista es:\", elemento)\n",
        "print(\"-------\")\n"
      ],
      "metadata": {
        "colab": {
          "base_uri": "https://localhost:8080/"
        },
        "id": "0AlBwVT6KDBx",
        "outputId": "b226d95c-a1e9-405e-97ed-2d7d41a9a747"
      },
      "execution_count": null,
      "outputs": [
        {
          "output_type": "stream",
          "name": "stdout",
          "text": [
            "El elemento 0  en la lista es: ¡hola!\n",
            "El elemento 1  en la lista es: 1\n",
            "El elemento 2  en la lista es: True\n",
            "El elemento 3  en la lista es: 1000\n",
            "-------\n"
          ]
        }
      ]
    },
    {
      "cell_type": "code",
      "source": [
        "mi_lista = [1,2,3,4,5]\n",
        "mi_lista_cuadrada = []\n",
        "\n",
        "for element in mi_lista:\n",
        "    mi_lista_cuadrada.append(element ** 2)\n",
        "    \n",
        "print(mi_lista_cuadrada)"
      ],
      "metadata": {
        "colab": {
          "base_uri": "https://localhost:8080/"
        },
        "id": "E_Bq5pGiK3yq",
        "outputId": "3ef4946d-7491-4e04-d75b-8062debb6ffe"
      },
      "execution_count": null,
      "outputs": [
        {
          "output_type": "stream",
          "name": "stdout",
          "text": [
            "[1, 4, 9, 16, 25]\n"
          ]
        }
      ]
    },
    {
      "cell_type": "markdown",
      "source": [
        "En Python tenemos la opción de ***crear listas a través a partir de otros elementos que son iterables*** (es decir, que puedo repetir una operación bajo una cierta condición)"
      ],
      "metadata": {
        "id": "JtF7gRXwIR6c"
      }
    },
    {
      "cell_type": "markdown",
      "source": [
        "Una forma alternativa (y más eficiente) de programar el código anterior es usando ***listas por comprensión***.\n",
        "\n",
        "La estructura general para crear una lista por compresión es la siguiente:\n",
        "\n",
        "\n",
        "```\n",
        "nueva_lista = [expresion/operacion    condicion_bucle_1    condicion_bucle_2 ...]\n",
        "```\n",
        "\n"
      ],
      "metadata": {
        "id": "GFU8bpWrMlYA"
      }
    },
    {
      "cell_type": "markdown",
      "source": [
        "Un ejemplo donde podemos hacer uso de la creación de listas por compresión sería, dada una lista de números, crear una nueva lista con los sucesores de la lista dada. \n",
        "\n",
        "En principio, podríamos hacer uso de un ciclo `for` para dicho propósito"
      ],
      "metadata": {
        "id": "A8vlwT_1ObXV"
      }
    },
    {
      "cell_type": "code",
      "source": [
        "numeros = [1, 7, 14, -10, 5, 9, 10, 2, 3]\n",
        "resultados = []\n",
        "for n in numeros:\n",
        "    resultados.append(n + 1)\n",
        "\n",
        "resultados"
      ],
      "metadata": {
        "colab": {
          "base_uri": "https://localhost:8080/"
        },
        "id": "iiLGEiZuJ9VX",
        "outputId": "ab2430f2-9d3e-4a7f-96d9-c4c09f585f86"
      },
      "execution_count": null,
      "outputs": [
        {
          "output_type": "execute_result",
          "data": {
            "text/plain": [
              "[2, 8, 15, -9, 6, 10, 11, 3, 4]"
            ]
          },
          "metadata": {},
          "execution_count": 1
        }
      ]
    },
    {
      "cell_type": "markdown",
      "source": [
        "Haciendo uso de listas por comprensión tendríamos lo siguiente"
      ],
      "metadata": {
        "id": "YDGvBmGRkRm3"
      }
    },
    {
      "cell_type": "code",
      "source": [
        "numeros = [1, 7, 14, -10, 5, 9, 10, 2, 3]\n",
        "resultados = [n + 1 for n in numeros]\n",
        "resultados"
      ],
      "metadata": {
        "colab": {
          "base_uri": "https://localhost:8080/"
        },
        "id": "6wp0CvbFKAM4",
        "outputId": "5ae4ce21-868b-4dd8-9f04-6f22496a518d"
      },
      "execution_count": null,
      "outputs": [
        {
          "output_type": "execute_result",
          "data": {
            "text/plain": [
              "[2, 8, 15, -9, 6, 10, 11, 3, 4]"
            ]
          },
          "metadata": {},
          "execution_count": 2
        }
      ]
    },
    {
      "cell_type": "markdown",
      "source": [
        "Podemos agregar una condición, por ejemplo pidiendo que dichos numeros sean menor a 10 mediante el condicional `if`"
      ],
      "metadata": {
        "id": "DYvNrhgxkc0J"
      }
    },
    {
      "cell_type": "code",
      "source": [
        "numeros = [1, 7, 14, -10, 5, 9, 10, 2, 3]\n",
        "resultados = [n + 1 for n in numeros if n < 10]\n",
        "resultados"
      ],
      "metadata": {
        "colab": {
          "base_uri": "https://localhost:8080/"
        },
        "id": "yelVjHagMIGu",
        "outputId": "064aac70-556c-499b-cba7-54e1ff541326"
      },
      "execution_count": null,
      "outputs": [
        {
          "output_type": "execute_result",
          "data": {
            "text/plain": [
              "[2, 8, -9, 6, 10, 3, 4]"
            ]
          },
          "metadata": {},
          "execution_count": 4
        }
      ]
    },
    {
      "cell_type": "code",
      "source": [
        "len(numeros)"
      ],
      "metadata": {
        "colab": {
          "base_uri": "https://localhost:8080/"
        },
        "id": "7SEQxNbnEWsJ",
        "outputId": "818601dc-4b6a-45cf-aedd-86d29a665e73"
      },
      "execution_count": null,
      "outputs": [
        {
          "output_type": "execute_result",
          "data": {
            "text/plain": [
              "9"
            ]
          },
          "metadata": {},
          "execution_count": 5
        }
      ]
    },
    {
      "cell_type": "code",
      "source": [
        "len(resultados)"
      ],
      "metadata": {
        "colab": {
          "base_uri": "https://localhost:8080/"
        },
        "id": "WXYrNq_tEbxV",
        "outputId": "9f75261a-da12-4973-e68a-915453fbcad8"
      },
      "execution_count": null,
      "outputs": [
        {
          "output_type": "execute_result",
          "data": {
            "text/plain": [
              "7"
            ]
          },
          "metadata": {},
          "execution_count": 6
        }
      ]
    },
    {
      "cell_type": "markdown",
      "source": [
        "En el caso de que se desee realizar una operación diferente cuando no se cumple la condición se puede hacer con un `else`. Aunque es necesario cambiar modificar el orden. \n",
        "\n",
        "Si se utiliza un `else` la condición se tiene que situar justamente después de la expresión y antes del `for`. \n",
        "```\n",
        "nueva_lista = [expresion/operacion   if  condicion_if    else   expresion/operacion     bucle_for]\n",
        "```\n",
        "Por ejemplo, en el siguiente código los números mayores o iguales que tres se dejan sin modificar.\n",
        "\n"
      ],
      "metadata": {
        "id": "oZYkrKUqPmTG"
      }
    },
    {
      "cell_type": "code",
      "source": [
        "numeros = [1, 7, 14, -10, 5, 9, 10, 2, 3]\n",
        "resultados = [n + 1 if n < 10 else n for n in numeros]\n",
        "resultados"
      ],
      "metadata": {
        "colab": {
          "base_uri": "https://localhost:8080/"
        },
        "id": "Q5_ehZt-MPVg",
        "outputId": "6425a254-6d78-40ed-ca25-69eba50c78fe"
      },
      "execution_count": null,
      "outputs": [
        {
          "output_type": "execute_result",
          "data": {
            "text/plain": [
              "[2, 8, 14, -9, 6, 10, 10, 3, 4]"
            ]
          },
          "metadata": {},
          "execution_count": 7
        }
      ]
    },
    {
      "cell_type": "markdown",
      "source": [
        "Un ejemplo típico de las listas por compresión es cuando hacemos uso de ciclos o bucles anidados, en particular podríamos estar anidadndo ciclos `for`. \n",
        "\n",
        "Por ejmplo, podemos estar intereados en buscar el conjunto de elementos comunes en dos listas. Lo que se puede conseguir de con el siguiente código."
      ],
      "metadata": {
        "id": "IriQjrcDTy1Q"
      }
    },
    {
      "cell_type": "code",
      "source": [
        "nombres_1 = ['Oralie' ,'Imojean' ,'Michele', 'Ailbert', 'Stevy']\n",
        "nombres_2 = ['Jayson', 'Oralie' ,'Michele', 'Stevy', 'Alwyn']\n",
        "nombres_comun = []\n",
        "for a in nombres_1:\n",
        "    for b in nombres_2:\n",
        "        if a == b:\n",
        "            nombres_comun.append(a)"
      ],
      "metadata": {
        "id": "432EH3qZRhiI"
      },
      "execution_count": null,
      "outputs": []
    },
    {
      "cell_type": "markdown",
      "source": [
        "Su versión alternativa usando ciclos `for` sería iterando sobre los elementos de cada lista y después rescatar únicamente aquellos que coincidan."
      ],
      "metadata": {
        "id": "e3qK6x_WnOxM"
      }
    },
    {
      "cell_type": "code",
      "source": [
        "nombres_1 = ['Oralie' ,'Imojean' ,'Michele', 'Ailbert', 'Stevy']\n",
        "nombres_2 = ['Jayson', 'Oralie' ,'Michele', 'Stevy', 'Alwyn']\n",
        "\n",
        "nombres_comun = [a for a in nombres_1 for b in nombres_2 if a == b]\n",
        "nombres_comun"
      ],
      "metadata": {
        "colab": {
          "base_uri": "https://localhost:8080/"
        },
        "id": "wBAx6bvZRG9S",
        "outputId": "20c8771d-f40d-4294-8a61-83fbfb964ad1"
      },
      "execution_count": null,
      "outputs": [
        {
          "output_type": "execute_result",
          "data": {
            "text/plain": [
              "['Oralie', 'Michele', 'Stevy']"
            ]
          },
          "metadata": {},
          "execution_count": 30
        }
      ]
    },
    {
      "cell_type": "markdown",
      "source": [
        "Retomando el ejemplo que vimos al inicio, el código natural a efectur para llenar una lista con elementos al cuadrado es la siguiente"
      ],
      "metadata": {
        "id": "xulTKGwYTcxY"
      }
    },
    {
      "cell_type": "code",
      "source": [
        "mi_lista = [1,2,3,4,5]\n",
        "mi_lista_cuadrada =[]\n",
        "\n",
        "for element in mi_lista:\n",
        "    mi_lista_cuadrada.append(element ** 2)\n",
        "    \n",
        "print(mi_lista_cuadrada)"
      ],
      "metadata": {
        "colab": {
          "base_uri": "https://localhost:8080/"
        },
        "outputId": "3ef4946d-7491-4e04-d75b-8062debb6ffe",
        "id": "czOII-gJofGg"
      },
      "execution_count": null,
      "outputs": [
        {
          "output_type": "stream",
          "name": "stdout",
          "text": [
            "[1, 4, 9, 16, 25]\n"
          ]
        }
      ]
    },
    {
      "cell_type": "markdown",
      "source": [
        "Mientras que una lista por compresión con dicha operación estaría dada por la siguiente línea de código"
      ],
      "metadata": {
        "id": "NlJHlIyHTk6-"
      }
    },
    {
      "cell_type": "code",
      "source": [
        "mi_lista = [1,2,3,4,5]\n",
        "# [1,4,9,16,25]\n",
        "\n",
        "mi_lista_cuadrada = [element**2 for element in mi_lista]\n",
        "print(mi_lista_cuadrada)"
      ],
      "metadata": {
        "id": "Ku6Jh-mfM-6z",
        "colab": {
          "base_uri": "https://localhost:8080/"
        },
        "outputId": "d4368346-c4d7-4db4-fe91-4ea412843c30"
      },
      "execution_count": null,
      "outputs": [
        {
          "output_type": "stream",
          "name": "stdout",
          "text": [
            "[1, 4, 9, 16, 25]\n"
          ]
        }
      ]
    }
  ]
}